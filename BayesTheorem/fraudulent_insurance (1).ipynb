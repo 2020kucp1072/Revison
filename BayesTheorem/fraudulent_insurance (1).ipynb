{
  "nbformat": 4,
  "nbformat_minor": 0,
  "metadata": {
    "colab": {
      "provenance": []
    },
    "kernelspec": {
      "name": "python3",
      "display_name": "Python 3"
    },
    "language_info": {
      "name": "python"
    }
  },
  "cells": [
    {
      "cell_type": "markdown",
      "source": [
        "#8. Fraudulent Insurance Claims\n",
        "\n",
        "#Problem Statement:\n",
        "\n",
        "An insurance company receives 5% of its claims as fraudulent, and 95% of claims are legitimate. The company’s fraud detection system correctly identifies fraudulent claims 80% of the time (true positive rate) but incorrectly flags 10% of legitimate claims as fraudulent (false positive rate). Given that a claim was flagged as fraudulent by the system, what is the probability that it is actually fraudulent?"
      ],
      "metadata": {
        "id": "FoJljGZYAY1v"
      }
    },
    {
      "cell_type": "markdown",
      "source": [
        "# Given values\n",
        "GIVEN VALUES\n"
      ],
      "metadata": {
        "id": "zet2Ao4ZAmWw"
      }
    },
    {
      "cell_type": "code",
      "execution_count": null,
      "metadata": {
        "id": "EcyoO1PxARYe"
      },
      "outputs": [],
      "source": [
        "# Given values\n",
        "P_Fraud = 0.05  # Probability of fraudulent claim\n",
        "P_Legit = 1 - P_Fraud  # Probability of legitimate claim\n",
        "P_Flag_given_Fraud = 0.8  # True positive rate (fraud detected as fraud)\n",
        "P_Flag_given_Legit = 0.1  # False positive rate (legit flagged as fraud)"
      ]
    },
    {
      "cell_type": "markdown",
      "source": [
        "# Bayes' Theorem formula"
      ],
      "metadata": {
        "id": "NQHIVA8_A25S"
      }
    },
    {
      "cell_type": "code",
      "source": [
        "P_Fraud_given_Flag = (P_Flag_given_Fraud * P_Fraud) / ((P_Flag_given_Fraud * P_Fraud) + (P_Flag_given_Legit * P_Legit))"
      ],
      "metadata": {
        "id": "gEKgjgO4A7KR"
      },
      "execution_count": null,
      "outputs": []
    },
    {
      "cell_type": "markdown",
      "source": [
        "# Output the result"
      ],
      "metadata": {
        "id": "N0JB4KawASFb"
      }
    },
    {
      "cell_type": "code",
      "source": [
        "print(f\"The probability that the claim is actually fraudulent given it was flagged is {P_Fraud_given_Flag:.4f}\")"
      ],
      "metadata": {
        "colab": {
          "base_uri": "https://localhost:8080/"
        },
        "id": "qERguipiBD4m",
        "outputId": "9a997b5d-51ab-4e27-94c0-263ac87f3bc1"
      },
      "execution_count": null,
      "outputs": [
        {
          "output_type": "stream",
          "name": "stdout",
          "text": [
            "The probability that the claim is actually fraudulent given it was flagged is 0.2963\n"
          ]
        }
      ]
    }
  ]
}