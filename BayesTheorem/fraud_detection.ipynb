{
  "nbformat": 4,
  "nbformat_minor": 0,
  "metadata": {
    "colab": {
      "provenance": []
    },
    "kernelspec": {
      "name": "python3",
      "display_name": "Python 3"
    },
    "language_info": {
      "name": "python"
    }
  },
  "cells": [
    {
      "cell_type": "markdown",
      "source": [
        "#6. Fraud Detection in Transactions\n",
        "#Problem Statement:\n",
        "A bank has an AI system to detect fraud in transactions. 1% of transactions are fraudulent, 99% are not. The AI correctly detects fraud 99% of the time, but it also flags 5% of legitimate transactions as fraud. Given that a transaction was flagged as fraud, what is the probability it is actually fraudulent?"
      ],
      "metadata": {
        "id": "oE3V-XMk-LOm"
      }
    },
    {
      "cell_type": "markdown",
      "source": [
        "GIVEN VALUES"
      ],
      "metadata": {
        "id": "mnkv8bZf-XTH"
      }
    },
    {
      "cell_type": "code",
      "execution_count": null,
      "metadata": {
        "id": "ac8YcwBk9Kfm"
      },
      "outputs": [],
      "source": [
        "# Given values\n",
        "P_F = 0.01  # Probability of fraud\n",
        "P_F_complement = 1 - P_F  # Probability of non-fraud\n",
        "P_T_given_F = 0.99  # True positive rate\n",
        "P_T_given_F_complement = 0.05  # False positive rate"
      ]
    },
    {
      "cell_type": "markdown",
      "source": [
        "# Bayes' Theorem formula"
      ],
      "metadata": {
        "id": "ea8KZz4j-aCi"
      }
    },
    {
      "cell_type": "code",
      "source": [
        "P_F_given_T = (P_T_given_F * P_F) / ((P_T_given_F * P_F) + (P_T_given_F_complement * P_F_complement))\n"
      ],
      "metadata": {
        "id": "MvnMrV3s-cso"
      },
      "execution_count": null,
      "outputs": []
    },
    {
      "cell_type": "markdown",
      "source": [
        "# Output the result"
      ],
      "metadata": {
        "id": "TqX9BCqu-jna"
      }
    },
    {
      "cell_type": "code",
      "source": [
        "print(f\"The probability that the transaction is fraudulent given the AI flagged it as fraud is {P_F_given_T:.4f}\")\n"
      ],
      "metadata": {
        "colab": {
          "base_uri": "https://localhost:8080/"
        },
        "id": "RULXFnkZ-smB",
        "outputId": "616f4718-ee14-4339-8fc0-048ca532db11"
      },
      "execution_count": null,
      "outputs": [
        {
          "output_type": "stream",
          "name": "stdout",
          "text": [
            "The probability that the transaction is fraudulent given the AI flagged it as fraud is 0.1667\n"
          ]
        }
      ]
    },
    {
      "cell_type": "markdown",
      "source": [
        "print(f\"The probability that the transaction is fraudulent given the AI flagged it as fraud is {P_F_given_T:.4f}\")\n",
        "\\"
      ],
      "metadata": {
        "id": "qXXTL15D-gs2"
      }
    }
  ]
}