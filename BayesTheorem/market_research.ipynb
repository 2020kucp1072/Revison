{
  "nbformat": 4,
  "nbformat_minor": 0,
  "metadata": {
    "colab": {
      "provenance": []
    },
    "kernelspec": {
      "name": "python3",
      "display_name": "Python 3"
    },
    "language_info": {
      "name": "python"
    }
  },
  "cells": [
    {
      "cell_type": "markdown",
      "source": [
        "#5. Market Research\n",
        "#Problem Statement:\n",
        "A company runs two ad campaigns, A and B. Campaign A results in 70% of customers making a purchase, and Campaign B results in 40%. Campaign A is used 60% of the time, and Campaign B 40%. Given that a customer made a purchase, what is the probability they were exposed to Campaign A?"
      ],
      "metadata": {
        "id": "KTdG2rjv8HtO"
      }
    },
    {
      "cell_type": "markdown",
      "source": [
        "GIVEN VALUES"
      ],
      "metadata": {
        "id": "yfi_xfdc8LN4"
      }
    },
    {
      "cell_type": "code",
      "execution_count": null,
      "metadata": {
        "id": "HlmPEMfQ7Urb"
      },
      "outputs": [],
      "source": [
        "# Given values\n",
        "P_A = 0.6  # Probability of using Campaign A\n",
        "P_B = 0.4  # Probability of using Campaign B\n",
        "P_P_given_A = 0.7  # Probability of purchase from Campaign A\n",
        "P_P_given_B = 0.4  # Probability of purchase from Campaign B\n"
      ]
    },
    {
      "cell_type": "markdown",
      "source": [
        "#Bayes theorem formula"
      ],
      "metadata": {
        "id": "oVCRVtzK8TSI"
      }
    },
    {
      "cell_type": "code",
      "source": [
        "P_A_given_P = (P_P_given_A * P_A) / ((P_P_given_A * P_A) + (P_P_given_B * P_B))"
      ],
      "metadata": {
        "id": "KjeJDuqB8FiY"
      },
      "execution_count": null,
      "outputs": []
    },
    {
      "cell_type": "markdown",
      "source": [
        "#**RESULTS**"
      ],
      "metadata": {
        "id": "nLV10BH28cVB"
      }
    },
    {
      "cell_type": "code",
      "source": [
        "print(f\"The probability that the purchase came from Campaign A is {P_A_given_P:.4f}\")"
      ],
      "metadata": {
        "colab": {
          "base_uri": "https://localhost:8080/"
        },
        "id": "b-4i_gJ48pOR",
        "outputId": "09bcfc8b-05a9-402e-ca02-c9d5092f189d"
      },
      "execution_count": null,
      "outputs": [
        {
          "output_type": "stream",
          "name": "stdout",
          "text": [
            "The probability that the purchase came from Campaign A is 0.7241\n"
          ]
        }
      ]
    },
    {
      "cell_type": "markdown",
      "source": [],
      "metadata": {
        "id": "f1tZ1GLW8bdq"
      }
    }
  ]
}