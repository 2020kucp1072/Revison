{
  "nbformat": 4,
  "nbformat_minor": 0,
  "metadata": {
    "colab": {
      "provenance": []
    },
    "kernelspec": {
      "name": "python3",
      "display_name": "Python 3"
    },
    "language_info": {
      "name": "python"
    }
  },
  "cells": [
    {
      "cell_type": "markdown",
      "source": [
        "**DRUG TESTING**\n",
        "\n",
        "**PROBLEM STATEMENT**\n",
        "\n",
        "In a drug test, the probability of a drug user is 0.005, and the probability of a non-drug user is 0.995. The true positive rate (test sensitivity) is 98%, and the false positive rate is 3%. Given that a person tested positive, what is the probability they are actually a drug user?"
      ],
      "metadata": {
        "id": "EBPx-fUy0cME"
      }
    },
    {
      "cell_type": "markdown",
      "source": [
        "**GIVEN DETAILS**"
      ],
      "metadata": {
        "id": "i5vUJqBq2vEZ"
      }
    },
    {
      "cell_type": "code",
      "execution_count": null,
      "metadata": {
        "id": "VOvjpbWJ0Y6W"
      },
      "outputs": [],
      "source": [
        "P_D = 0.005  # Probability of being a drug user\n",
        "P_D_complement = 1 - P_D  # Probability of not being a drug user\n",
        "P_T_given_D = 0.98  # True positive rate\n",
        "P_T_given_D_complement = 0.03  # False positive rate"
      ]
    },
    {
      "cell_type": "markdown",
      "source": [
        "# Bayes' Theorem formula"
      ],
      "metadata": {
        "id": "aqit5flz3lXw"
      }
    },
    {
      "cell_type": "code",
      "source": [
        "# Bayes' Theorem formula\n",
        "P_D_given_T = (P_T_given_D * P_D) / ((P_T_given_D * P_D) + (P_T_given_D_complement * P_D_complement))"
      ],
      "metadata": {
        "id": "NruHx1rr3mq-"
      },
      "execution_count": null,
      "outputs": []
    },
    {
      "cell_type": "markdown",
      "source": [
        "#Result"
      ],
      "metadata": {
        "id": "15wP38JM4QgW"
      }
    },
    {
      "cell_type": "code",
      "source": [
        "print(f\"The probability that the person is a drug user given a positive test is {P_D_given_T:.4f}\")"
      ],
      "metadata": {
        "colab": {
          "base_uri": "https://localhost:8080/"
        },
        "id": "4kfk2EXj4iHr",
        "outputId": "005ea378-6491-4863-a53d-5d7f6e91f4a3"
      },
      "execution_count": null,
      "outputs": [
        {
          "output_type": "stream",
          "name": "stdout",
          "text": [
            "The probability that the person is a drug user given a positive test is 0.1410\n"
          ]
        }
      ]
    }
  ]
}