{
  "nbformat": 4,
  "nbformat_minor": 0,
  "metadata": {
    "colab": {
      "provenance": []
    },
    "kernelspec": {
      "name": "python3",
      "display_name": "Python 3"
    },
    "language_info": {
      "name": "python"
    }
  },
  "cells": [
    {
      "cell_type": "markdown",
      "source": [
        "#2.Faulty Machine Identification\n",
        "\n",
        "#Problem Statement:\n",
        "\n",
        "A factory has three machines: A, B, and C. Machine A produces 5% defective products, machine B produces 3%, and machine C produces 10%. Machine A is used 50% of the time, machine B 30%, and machine C 20%. Given that a product is defective, what is the probability it came from machine C?"
      ],
      "metadata": {
        "id": "JOfH6Cym6Oss"
      }
    },
    {
      "cell_type": "markdown",
      "source": [
        "GIVEN VALUES"
      ],
      "metadata": {
        "id": "Z_h9XEcN6hto"
      }
    },
    {
      "cell_type": "code",
      "execution_count": null,
      "metadata": {
        "id": "L_vonm0u6H-8"
      },
      "outputs": [],
      "source": [
        "P_MA = 0.5  # Probability of using Machine A\n",
        "P_MB = 0.3  # Probability of using Machine B\n",
        "P_MC = 0.2  # Probability of using Machine C\n",
        "P_D_given_MA = 0.05  # Probability of defect from Machine A\n",
        "P_D_given_MB = 0.03  # Probability of defect from Machine B\n",
        "P_D_given_MC = 0.10  # Probability of defect from Machine C"
      ]
    },
    {
      "cell_type": "markdown",
      "source": [
        "# Bayes' Theorem formula"
      ],
      "metadata": {
        "id": "GeDq1iEr6nvF"
      }
    },
    {
      "cell_type": "code",
      "source": [
        "P_MC_given_D = (P_D_given_MC * P_MC) / ((P_D_given_MA * P_MA) + (P_D_given_MB *P_MB) + (P_D_given_MC * P_MC))"
      ],
      "metadata": {
        "id": "ED-AFqUo6rn1"
      },
      "execution_count": null,
      "outputs": []
    },
    {
      "cell_type": "markdown",
      "source": [
        "#Result"
      ],
      "metadata": {
        "id": "jiAF_STl6xB9"
      }
    },
    {
      "cell_type": "code",
      "source": [
        "print(f\"The probability that the defective product came from Machine C is {P_MC_given_D:.4f}\")\n"
      ],
      "metadata": {
        "colab": {
          "base_uri": "https://localhost:8080/"
        },
        "id": "lZ70iHV86zYn",
        "outputId": "a561661f-7875-4667-c58c-6b899bb7f2d0"
      },
      "execution_count": null,
      "outputs": [
        {
          "output_type": "stream",
          "name": "stdout",
          "text": [
            "The probability that the defective product came from Machine C is 0.3704\n"
          ]
        }
      ]
    }
  ]
}