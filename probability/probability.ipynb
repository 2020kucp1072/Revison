{
  "nbformat": 4,
  "nbformat_minor": 0,
  "metadata": {
    "colab": {
      "provenance": []
    },
    "kernelspec": {
      "name": "python3",
      "display_name": "Python 3"
    },
    "language_info": {
      "name": "python"
    }
  },
  "cells": [
    {
      "cell_type": "markdown",
      "source": [
        "**1**. **Probability Jack and Jill in Same Class**\n",
        "\n",
        "**Problem Statement:**\n",
        "A group of 60 students is randomly split into 3 classes of equal size. All partitions are equally likely. Jack and Jill are two students belonging to that group.\n",
        "What is the probability that Jack and Jill will end up in the same class?"
      ],
      "metadata": {
        "id": "cr_YPhqCbADn"
      }
    },
    {
      "cell_type": "code",
      "execution_count": 1,
      "metadata": {
        "colab": {
          "base_uri": "https://localhost:8080/"
        },
        "id": "unnsa0pWaLrk",
        "outputId": "4964d828-b36f-4081-ca02-6992d20c5fcc"
      },
      "outputs": [
        {
          "output_type": "stream",
          "name": "stdout",
          "text": [
            "0.3220338983050847\n"
          ]
        }
      ],
      "source": [
        "total_pairs = 60 * 59 / 2\n",
        "same_class_pairs = 20 * 19 / 2 * 3\n",
        "probability = same_class_pairs / total_pairs\n",
        "print(probability)\n"
      ]
    },
    {
      "cell_type": "markdown",
      "source": [
        "**2. Probability of Faulty Coin**\n",
        "\n",
        "**Problem Statement:**\n",
        "Jack has two coins, one is real and the other is faulty (both sides are tails). He randomly picks one and tosses it. If the coin shows tails, what is the probability it’s the faulty coin?"
      ],
      "metadata": {
        "id": "PnImIcqhb9e9"
      }
    },
    {
      "cell_type": "code",
      "source": [
        "# Probability of choosing the faulty coin\n",
        "p_faulty = 1 / 2\n",
        "# Probability of choosing the real coin\n",
        "p_real = 1 / 2\n",
        "# Probability of tails for each coin\n",
        "p_tails_given_faulty = 1\n",
        "p_tails_given_real = 1 / 2\n",
        "\n",
        "# Total probability of tails\n",
        "p_tails = p_faulty * p_tails_given_faulty + p_real * p_tails_given_real\n",
        "# Probability of faulty coin given tails\n",
        "p_faulty_given_tails = (p_faulty * p_tails_given_faulty) / p_tails\n",
        "\n",
        "print(f\"Probability: {p_faulty_given_tails:.5f}\")\n"
      ],
      "metadata": {
        "colab": {
          "base_uri": "https://localhost:8080/"
        },
        "id": "FzudEsZycuyq",
        "outputId": "73bbd007-8bfc-4315-f93c-c90b6b17f0d0"
      },
      "execution_count": 3,
      "outputs": [
        {
          "output_type": "stream",
          "name": "stdout",
          "text": [
            "Probability: 0.66667\n"
          ]
        }
      ]
    },
    {
      "cell_type": "markdown",
      "source": [
        "**3. Probability Rob has Typhoid**\n",
        "\n",
        "**Problem Statement:**\n",
        "1% of the population has typhoid. A test detects typhoid with 80% accuracy if the patient has typhoid and gives 10% false positives.\n",
        "If Rob’s test is positive, what is the probability he has typhoid?"
      ],
      "metadata": {
        "id": "u9T1_bL8dMii"
      }
    },
    {
      "cell_type": "code",
      "source": [
        "p_typhoid = 0.01\n",
        "p_no_typhoid = 0.99\n",
        "p_positive_given_typhoid = 0.8\n",
        "p_positive_given_no_typhoid = 0.1\n",
        "\n",
        "p_positive = (p_typhoid * p_positive_given_typhoid) + (p_no_typhoid * p_positive_given_no_typhoid)\n",
        "p_typhoid_given_positive = (p_typhoid * p_positive_given_typhoid) / p_positive\n",
        "\n",
        "\n",
        "print(f\"Probability: {p_typhoid_given_positive:.5f}\")\n"
      ],
      "metadata": {
        "colab": {
          "base_uri": "https://localhost:8080/"
        },
        "id": "QpaGTNPadUJI",
        "outputId": "5cf1449f-d4f2-479b-d88a-a6669595cf68"
      },
      "execution_count": 5,
      "outputs": [
        {
          "output_type": "stream",
          "name": "stdout",
          "text": [
            "Probability: 0.07477\n"
          ]
        }
      ]
    },
    {
      "cell_type": "markdown",
      "source": [
        "**4. Probability 4 of 6 Recover**\n",
        "\n",
        "**Problem Statement:**\n",
        "Hospital records show 75% of patients with a disease die from it. What is the probability that 4 out of 6 randomly selected patients recover?"
      ],
      "metadata": {
        "id": "mXGE5QO2dkUD"
      }
    },
    {
      "cell_type": "code",
      "source": [
        "from math import comb\n",
        "\n",
        "p_recover = 0.25\n",
        "p_die = 0.75\n",
        "\n",
        "probability = comb(6, 4) * (p_recover ** 4) * (p_die ** 2)\n",
        "\n",
        "\n",
        "print(f\"Probability: {probability:.5f}\")\n"
      ],
      "metadata": {
        "colab": {
          "base_uri": "https://localhost:8080/"
        },
        "id": "j9mMis45shEM",
        "outputId": "4945faa8-aead-4952-d8d6-af1a13486157"
      },
      "execution_count": 7,
      "outputs": [
        {
          "output_type": "stream",
          "name": "stdout",
          "text": [
            "Probability: 0.03296\n"
          ]
        }
      ]
    },
    {
      "cell_type": "markdown",
      "source": [
        "**5. Expected Net Profit in Lottery**\n",
        "\n",
        "**Problem Statement:**\n",
        "Ahmed picks 2 numbers (0-9) and 1 letter (A-Z). He wins $10405 if all match, $100 if only the letter matches. Each ticket costs $5. What is his expected net profit?"
      ],
      "metadata": {
        "id": "-6X7IuxHsnS1"
      }
    },
    {
      "cell_type": "code",
      "source": [
        "p_grand_prize = 1 / (10 * 10 * 26)\n",
        "p_letter_match = 25 / (10 * 10 * 26)\n",
        "p_no_prize = 1 - (p_grand_prize + p_letter_match)\n",
        "\n",
        "expected_profit = (p_grand_prize * 10405) + (p_letter_match * 100) - 5\n",
        "\n",
        "print(f\"Expected Net Profit: ${expected_profit:.2f}\")\n"
      ],
      "metadata": {
        "colab": {
          "base_uri": "https://localhost:8080/"
        },
        "id": "cE9H5EkEsm76",
        "outputId": "14ca7ce0-3a00-4142-a5f0-5048ebcb3bb7"
      },
      "execution_count": 9,
      "outputs": [
        {
          "output_type": "stream",
          "name": "stdout",
          "text": [
            "Expected Net Profit: $-0.04\n"
          ]
        }
      ]
    },
    {
      "cell_type": "markdown",
      "source": [
        "**6. Probability of Same Birthday**\n",
        "\n",
        "**Problem Statement:**\n",
        "In a class of 30 students, what is the probability that two have the same birthday (ignoring leap years)?"
      ],
      "metadata": {
        "id": "Ei5SOWc_b5_M"
      }
    },
    {
      "cell_type": "code",
      "source": [
        "n_students = 30\n",
        "days_in_year = 365\n",
        "\n",
        "probability_no_shared = 1\n",
        "for i in range(n_students):\n",
        "    probability_no_shared *= (days_in_year - i) / days_in_year\n",
        "\n",
        "probability_shared = 1 - probability_no_shared\n",
        "\n",
        "\n",
        "print(f\"Probability: {probability_shared:.5f}\")\n"
      ],
      "metadata": {
        "colab": {
          "base_uri": "https://localhost:8080/"
        },
        "id": "bMG5yIAes7Kr",
        "outputId": "baf836c1-e78b-4be6-cc66-84eb4c5cdb3b"
      },
      "execution_count": 11,
      "outputs": [
        {
          "output_type": "stream",
          "name": "stdout",
          "text": [
            "Probability: 0.70632\n"
          ]
        }
      ]
    },
    {
      "cell_type": "markdown",
      "source": [
        "**7. Coin in Grid**\n",
        "\n",
        "**Problem Statement:**\n",
        "A coin of diameter 1 inch is thrown on a grid with 2-inch squares. What is the probability it lands without touching the lines?"
      ],
      "metadata": {
        "id": "insTZzlOtBPs"
      }
    },
    {
      "cell_type": "code",
      "source": [
        "grid_spacing = 2\n",
        "coin_diameter = 1\n",
        "\n",
        "probability = (grid_spacing - coin_diameter) ** 2 / grid_spacing ** 2\n",
        "\n",
        "print(f\"Probability: {probability:.5f}\")\n"
      ],
      "metadata": {
        "colab": {
          "base_uri": "https://localhost:8080/"
        },
        "id": "LneZw1xMtJEn",
        "outputId": "68591993-e453-4d7c-d6ce-0db0689d4ba2"
      },
      "execution_count": 13,
      "outputs": [
        {
          "output_type": "stream",
          "name": "stdout",
          "text": [
            "Probability: 0.25000\n"
          ]
        }
      ]
    },
    {
      "cell_type": "markdown",
      "source": [
        "**8. Second Interview Probability**\n",
        "\n",
        "**Problem Statement:**\n",
        "50% of first interviewees get a second call. 95% of them feel good about their first interview. 75% of those without a second call also feel good.\n",
        "If you felt good, what is the probability of getting a second call?"
      ],
      "metadata": {
        "id": "12bgfbYftgpA"
      }
    },
    {
      "cell_type": "code",
      "source": [
        "p_second_call = 0.5\n",
        "p_good_given_second_call = 0.95\n",
        "p_good_given_no_second_call = 0.75\n",
        "p_no_second_call = 1 - p_second_call\n",
        "\n",
        "p_good = (p_second_call * p_good_given_second_call) + (p_no_second_call * p_good_given_no_second_call)\n",
        "p_second_given_good = (p_second_call * p_good_given_second_call) / p_good\n",
        "\n",
        "print(f\"Probability: {p_second_given_good:.5f}\")\n"
      ],
      "metadata": {
        "colab": {
          "base_uri": "https://localhost:8080/"
        },
        "id": "Vjqhi08Ftk0K",
        "outputId": "072756aa-0a45-452a-a719-90563f2c6a01"
      },
      "execution_count": 15,
      "outputs": [
        {
          "output_type": "stream",
          "name": "stdout",
          "text": [
            "Probability: 0.55882\n"
          ]
        }
      ]
    },
    {
      "cell_type": "markdown",
      "source": [
        "**9. Normal Distribution Scores**\n",
        "\n",
        "**Problem Statement:**\n",
        "\n",
        "Test scores are normally distributed with a mean of 18 and standard deviation of 6. What proportion scored between 18 and 24?"
      ],
      "metadata": {
        "id": "o1yMZIDFtvtw"
      }
    },
    {
      "cell_type": "code",
      "source": [
        "from scipy.stats import norm\n",
        "\n",
        "mean = 18\n",
        "std_dev = 6\n",
        "\n",
        "p_18_to_24 = norm.cdf(24, mean, std_dev) - norm.cdf(18, mean, std_dev)\n",
        "\n",
        "\n",
        "print(f\"Proportion: {p_18_to_24:.5f}\")\n"
      ],
      "metadata": {
        "colab": {
          "base_uri": "https://localhost:8080/"
        },
        "id": "Z-dWoo6it3E7",
        "outputId": "1a162ca4-c8b1-4257-dfd6-12bb735cd289"
      },
      "execution_count": 17,
      "outputs": [
        {
          "output_type": "stream",
          "name": "stdout",
          "text": [
            "Proportion: 0.34134\n"
          ]
        }
      ]
    },
    {
      "cell_type": "markdown",
      "source": [
        "**10. Life Insurance Expected Value**\n",
        "\n",
        "**Problem Statement:**\n",
        "A life insurance company sells a $240,000 policy  to  a 25-year-old woman for $210. If her survival probability is 0.999592, what is the expected value of the policy for the company?"
      ],
      "metadata": {
        "id": "FqLkxLRMt9pG"
      }
    },
    {
      "cell_type": "code",
      "source": [
        "policy_amount = 240000\n",
        "premium = 210\n",
        "p_survive = 0.999592\n",
        "p_die = 1 - p_survive\n",
        "\n",
        "expected_value = (p_survive * premium) + (p_die * (premium - policy_amount))\n",
        "\n",
        "\n",
        "print(f\"Expected Value: ${expected_value:.2f}\")\n"
      ],
      "metadata": {
        "colab": {
          "base_uri": "https://localhost:8080/"
        },
        "id": "uRYPQsDLuNTn",
        "outputId": "0dee019f-3fd1-429c-a7c7-520870204a71"
      },
      "execution_count": 19,
      "outputs": [
        {
          "output_type": "stream",
          "name": "stdout",
          "text": [
            "Expected Value: $112.08\n"
          ]
        }
      ]
    }
  ]
}