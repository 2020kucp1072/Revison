{
  "nbformat": 4,
  "nbformat_minor": 0,
  "metadata": {
    "colab": {
      "provenance": []
    },
    "kernelspec": {
      "name": "python3",
      "display_name": "Python 3"
    },
    "language_info": {
      "name": "python"
    }
  },
  "cells": [
    {
      "cell_type": "markdown",
      "source": [
        "**PROBLEM STATEMENT**"
      ],
      "metadata": {
        "id": "talSDAdTA2PD"
      }
    },
    {
      "cell_type": "markdown",
      "source": [
        " **This dataset is designed for predicting food delivery times based on various influencing factors such as distance, weather, traffic conditions, and time of day. It offers a practical and engaging challenge for machine learning practitioners, especially those interested in logistics and operations research.**\n"
      ],
      "metadata": {
        "id": "yjHsZrnjUVee"
      }
    },
    {
      "cell_type": "markdown",
      "source": [
        "Linear Regression"
      ],
      "metadata": {
        "id": "gTF-UQQzAdKH"
      }
    },
    {
      "cell_type": "markdown",
      "source": [
        "LIBRARIES"
      ],
      "metadata": {
        "id": "6X92rum1A57l"
      }
    },
    {
      "cell_type": "code",
      "execution_count": null,
      "metadata": {
        "id": "D9GA38UrAbfS"
      },
      "outputs": [],
      "source": [
        "import pandas as pd\n",
        "from sklearn.linear_model import LinearRegression\n",
        "from sklearn.model_selection import train_test_split\n",
        "import matplotlib.pyplot as plt\n",
        "import seaborn as sns\n",
        "\n"
      ]
    },
    {
      "cell_type": "markdown",
      "source": [
        "LOAD DATASET"
      ],
      "metadata": {
        "id": "GLGQYCZqGpns"
      }
    },
    {
      "cell_type": "code",
      "source": [
        "data = pd.read_csv(\"https://drive.google.com/uc?export=download&id=1NgECHQp50QCwH_7BRZWQBQdhCjLuub7G\")\n"
      ],
      "metadata": {
        "id": "wvr93fuEGrfT"
      },
      "execution_count": null,
      "outputs": []
    },
    {
      "cell_type": "code",
      "source": [
        "data.head()"
      ],
      "metadata": {
        "colab": {
          "base_uri": "https://localhost:8080/",
          "height": 226
        },
        "id": "HcbD4yG4HV6X",
        "outputId": "a1b91edd-5b19-43ce-ebe5-3fa2bf4bfe06"
      },
      "execution_count": null,
      "outputs": [
        {
          "output_type": "execute_result",
          "data": {
            "text/plain": [
              "   Order_ID  Distance_km Weather Traffic_Level Time_of_Day Vehicle_Type  \\\n",
              "0       522         7.93   Windy           Low   Afternoon      Scooter   \n",
              "1       738        16.42   Clear        Medium     Evening         Bike   \n",
              "2       741         9.52   Foggy           Low       Night      Scooter   \n",
              "3       661         7.44   Rainy        Medium   Afternoon      Scooter   \n",
              "4       412        19.03   Clear           Low     Morning         Bike   \n",
              "\n",
              "   Preparation_Time_min  Courier_Experience_yrs  Delivery_Time_min  \n",
              "0                    12                     1.0                 43  \n",
              "1                    20                     2.0                 84  \n",
              "2                    28                     1.0                 59  \n",
              "3                     5                     1.0                 37  \n",
              "4                    16                     5.0                 68  "
            ],
            "text/html": [
              "\n",
              "  <div id=\"df-cddd34d6-2c2d-4df3-88a0-a285edb096db\" class=\"colab-df-container\">\n",
              "    <div>\n",
              "<style scoped>\n",
              "    .dataframe tbody tr th:only-of-type {\n",
              "        vertical-align: middle;\n",
              "    }\n",
              "\n",
              "    .dataframe tbody tr th {\n",
              "        vertical-align: top;\n",
              "    }\n",
              "\n",
              "    .dataframe thead th {\n",
              "        text-align: right;\n",
              "    }\n",
              "</style>\n",
              "<table border=\"1\" class=\"dataframe\">\n",
              "  <thead>\n",
              "    <tr style=\"text-align: right;\">\n",
              "      <th></th>\n",
              "      <th>Order_ID</th>\n",
              "      <th>Distance_km</th>\n",
              "      <th>Weather</th>\n",
              "      <th>Traffic_Level</th>\n",
              "      <th>Time_of_Day</th>\n",
              "      <th>Vehicle_Type</th>\n",
              "      <th>Preparation_Time_min</th>\n",
              "      <th>Courier_Experience_yrs</th>\n",
              "      <th>Delivery_Time_min</th>\n",
              "    </tr>\n",
              "  </thead>\n",
              "  <tbody>\n",
              "    <tr>\n",
              "      <th>0</th>\n",
              "      <td>522</td>\n",
              "      <td>7.93</td>\n",
              "      <td>Windy</td>\n",
              "      <td>Low</td>\n",
              "      <td>Afternoon</td>\n",
              "      <td>Scooter</td>\n",
              "      <td>12</td>\n",
              "      <td>1.0</td>\n",
              "      <td>43</td>\n",
              "    </tr>\n",
              "    <tr>\n",
              "      <th>1</th>\n",
              "      <td>738</td>\n",
              "      <td>16.42</td>\n",
              "      <td>Clear</td>\n",
              "      <td>Medium</td>\n",
              "      <td>Evening</td>\n",
              "      <td>Bike</td>\n",
              "      <td>20</td>\n",
              "      <td>2.0</td>\n",
              "      <td>84</td>\n",
              "    </tr>\n",
              "    <tr>\n",
              "      <th>2</th>\n",
              "      <td>741</td>\n",
              "      <td>9.52</td>\n",
              "      <td>Foggy</td>\n",
              "      <td>Low</td>\n",
              "      <td>Night</td>\n",
              "      <td>Scooter</td>\n",
              "      <td>28</td>\n",
              "      <td>1.0</td>\n",
              "      <td>59</td>\n",
              "    </tr>\n",
              "    <tr>\n",
              "      <th>3</th>\n",
              "      <td>661</td>\n",
              "      <td>7.44</td>\n",
              "      <td>Rainy</td>\n",
              "      <td>Medium</td>\n",
              "      <td>Afternoon</td>\n",
              "      <td>Scooter</td>\n",
              "      <td>5</td>\n",
              "      <td>1.0</td>\n",
              "      <td>37</td>\n",
              "    </tr>\n",
              "    <tr>\n",
              "      <th>4</th>\n",
              "      <td>412</td>\n",
              "      <td>19.03</td>\n",
              "      <td>Clear</td>\n",
              "      <td>Low</td>\n",
              "      <td>Morning</td>\n",
              "      <td>Bike</td>\n",
              "      <td>16</td>\n",
              "      <td>5.0</td>\n",
              "      <td>68</td>\n",
              "    </tr>\n",
              "  </tbody>\n",
              "</table>\n",
              "</div>\n",
              "    <div class=\"colab-df-buttons\">\n",
              "\n",
              "  <div class=\"colab-df-container\">\n",
              "    <button class=\"colab-df-convert\" onclick=\"convertToInteractive('df-cddd34d6-2c2d-4df3-88a0-a285edb096db')\"\n",
              "            title=\"Convert this dataframe to an interactive table.\"\n",
              "            style=\"display:none;\">\n",
              "\n",
              "  <svg xmlns=\"http://www.w3.org/2000/svg\" height=\"24px\" viewBox=\"0 -960 960 960\">\n",
              "    <path d=\"M120-120v-720h720v720H120Zm60-500h600v-160H180v160Zm220 220h160v-160H400v160Zm0 220h160v-160H400v160ZM180-400h160v-160H180v160Zm440 0h160v-160H620v160ZM180-180h160v-160H180v160Zm440 0h160v-160H620v160Z\"/>\n",
              "  </svg>\n",
              "    </button>\n",
              "\n",
              "  <style>\n",
              "    .colab-df-container {\n",
              "      display:flex;\n",
              "      gap: 12px;\n",
              "    }\n",
              "\n",
              "    .colab-df-convert {\n",
              "      background-color: #E8F0FE;\n",
              "      border: none;\n",
              "      border-radius: 50%;\n",
              "      cursor: pointer;\n",
              "      display: none;\n",
              "      fill: #1967D2;\n",
              "      height: 32px;\n",
              "      padding: 0 0 0 0;\n",
              "      width: 32px;\n",
              "    }\n",
              "\n",
              "    .colab-df-convert:hover {\n",
              "      background-color: #E2EBFA;\n",
              "      box-shadow: 0px 1px 2px rgba(60, 64, 67, 0.3), 0px 1px 3px 1px rgba(60, 64, 67, 0.15);\n",
              "      fill: #174EA6;\n",
              "    }\n",
              "\n",
              "    .colab-df-buttons div {\n",
              "      margin-bottom: 4px;\n",
              "    }\n",
              "\n",
              "    [theme=dark] .colab-df-convert {\n",
              "      background-color: #3B4455;\n",
              "      fill: #D2E3FC;\n",
              "    }\n",
              "\n",
              "    [theme=dark] .colab-df-convert:hover {\n",
              "      background-color: #434B5C;\n",
              "      box-shadow: 0px 1px 3px 1px rgba(0, 0, 0, 0.15);\n",
              "      filter: drop-shadow(0px 1px 2px rgba(0, 0, 0, 0.3));\n",
              "      fill: #FFFFFF;\n",
              "    }\n",
              "  </style>\n",
              "\n",
              "    <script>\n",
              "      const buttonEl =\n",
              "        document.querySelector('#df-cddd34d6-2c2d-4df3-88a0-a285edb096db button.colab-df-convert');\n",
              "      buttonEl.style.display =\n",
              "        google.colab.kernel.accessAllowed ? 'block' : 'none';\n",
              "\n",
              "      async function convertToInteractive(key) {\n",
              "        const element = document.querySelector('#df-cddd34d6-2c2d-4df3-88a0-a285edb096db');\n",
              "        const dataTable =\n",
              "          await google.colab.kernel.invokeFunction('convertToInteractive',\n",
              "                                                    [key], {});\n",
              "        if (!dataTable) return;\n",
              "\n",
              "        const docLinkHtml = 'Like what you see? Visit the ' +\n",
              "          '<a target=\"_blank\" href=https://colab.research.google.com/notebooks/data_table.ipynb>data table notebook</a>'\n",
              "          + ' to learn more about interactive tables.';\n",
              "        element.innerHTML = '';\n",
              "        dataTable['output_type'] = 'display_data';\n",
              "        await google.colab.output.renderOutput(dataTable, element);\n",
              "        const docLink = document.createElement('div');\n",
              "        docLink.innerHTML = docLinkHtml;\n",
              "        element.appendChild(docLink);\n",
              "      }\n",
              "    </script>\n",
              "  </div>\n",
              "\n",
              "\n",
              "<div id=\"df-654cbd54-0134-44f5-8dfb-d74ba854015f\">\n",
              "  <button class=\"colab-df-quickchart\" onclick=\"quickchart('df-654cbd54-0134-44f5-8dfb-d74ba854015f')\"\n",
              "            title=\"Suggest charts\"\n",
              "            style=\"display:none;\">\n",
              "\n",
              "<svg xmlns=\"http://www.w3.org/2000/svg\" height=\"24px\"viewBox=\"0 0 24 24\"\n",
              "     width=\"24px\">\n",
              "    <g>\n",
              "        <path d=\"M19 3H5c-1.1 0-2 .9-2 2v14c0 1.1.9 2 2 2h14c1.1 0 2-.9 2-2V5c0-1.1-.9-2-2-2zM9 17H7v-7h2v7zm4 0h-2V7h2v10zm4 0h-2v-4h2v4z\"/>\n",
              "    </g>\n",
              "</svg>\n",
              "  </button>\n",
              "\n",
              "<style>\n",
              "  .colab-df-quickchart {\n",
              "      --bg-color: #E8F0FE;\n",
              "      --fill-color: #1967D2;\n",
              "      --hover-bg-color: #E2EBFA;\n",
              "      --hover-fill-color: #174EA6;\n",
              "      --disabled-fill-color: #AAA;\n",
              "      --disabled-bg-color: #DDD;\n",
              "  }\n",
              "\n",
              "  [theme=dark] .colab-df-quickchart {\n",
              "      --bg-color: #3B4455;\n",
              "      --fill-color: #D2E3FC;\n",
              "      --hover-bg-color: #434B5C;\n",
              "      --hover-fill-color: #FFFFFF;\n",
              "      --disabled-bg-color: #3B4455;\n",
              "      --disabled-fill-color: #666;\n",
              "  }\n",
              "\n",
              "  .colab-df-quickchart {\n",
              "    background-color: var(--bg-color);\n",
              "    border: none;\n",
              "    border-radius: 50%;\n",
              "    cursor: pointer;\n",
              "    display: none;\n",
              "    fill: var(--fill-color);\n",
              "    height: 32px;\n",
              "    padding: 0;\n",
              "    width: 32px;\n",
              "  }\n",
              "\n",
              "  .colab-df-quickchart:hover {\n",
              "    background-color: var(--hover-bg-color);\n",
              "    box-shadow: 0 1px 2px rgba(60, 64, 67, 0.3), 0 1px 3px 1px rgba(60, 64, 67, 0.15);\n",
              "    fill: var(--button-hover-fill-color);\n",
              "  }\n",
              "\n",
              "  .colab-df-quickchart-complete:disabled,\n",
              "  .colab-df-quickchart-complete:disabled:hover {\n",
              "    background-color: var(--disabled-bg-color);\n",
              "    fill: var(--disabled-fill-color);\n",
              "    box-shadow: none;\n",
              "  }\n",
              "\n",
              "  .colab-df-spinner {\n",
              "    border: 2px solid var(--fill-color);\n",
              "    border-color: transparent;\n",
              "    border-bottom-color: var(--fill-color);\n",
              "    animation:\n",
              "      spin 1s steps(1) infinite;\n",
              "  }\n",
              "\n",
              "  @keyframes spin {\n",
              "    0% {\n",
              "      border-color: transparent;\n",
              "      border-bottom-color: var(--fill-color);\n",
              "      border-left-color: var(--fill-color);\n",
              "    }\n",
              "    20% {\n",
              "      border-color: transparent;\n",
              "      border-left-color: var(--fill-color);\n",
              "      border-top-color: var(--fill-color);\n",
              "    }\n",
              "    30% {\n",
              "      border-color: transparent;\n",
              "      border-left-color: var(--fill-color);\n",
              "      border-top-color: var(--fill-color);\n",
              "      border-right-color: var(--fill-color);\n",
              "    }\n",
              "    40% {\n",
              "      border-color: transparent;\n",
              "      border-right-color: var(--fill-color);\n",
              "      border-top-color: var(--fill-color);\n",
              "    }\n",
              "    60% {\n",
              "      border-color: transparent;\n",
              "      border-right-color: var(--fill-color);\n",
              "    }\n",
              "    80% {\n",
              "      border-color: transparent;\n",
              "      border-right-color: var(--fill-color);\n",
              "      border-bottom-color: var(--fill-color);\n",
              "    }\n",
              "    90% {\n",
              "      border-color: transparent;\n",
              "      border-bottom-color: var(--fill-color);\n",
              "    }\n",
              "  }\n",
              "</style>\n",
              "\n",
              "  <script>\n",
              "    async function quickchart(key) {\n",
              "      const quickchartButtonEl =\n",
              "        document.querySelector('#' + key + ' button');\n",
              "      quickchartButtonEl.disabled = true;  // To prevent multiple clicks.\n",
              "      quickchartButtonEl.classList.add('colab-df-spinner');\n",
              "      try {\n",
              "        const charts = await google.colab.kernel.invokeFunction(\n",
              "            'suggestCharts', [key], {});\n",
              "      } catch (error) {\n",
              "        console.error('Error during call to suggestCharts:', error);\n",
              "      }\n",
              "      quickchartButtonEl.classList.remove('colab-df-spinner');\n",
              "      quickchartButtonEl.classList.add('colab-df-quickchart-complete');\n",
              "    }\n",
              "    (() => {\n",
              "      let quickchartButtonEl =\n",
              "        document.querySelector('#df-654cbd54-0134-44f5-8dfb-d74ba854015f button');\n",
              "      quickchartButtonEl.style.display =\n",
              "        google.colab.kernel.accessAllowed ? 'block' : 'none';\n",
              "    })();\n",
              "  </script>\n",
              "</div>\n",
              "\n",
              "    </div>\n",
              "  </div>\n"
            ],
            "application/vnd.google.colaboratory.intrinsic+json": {
              "type": "dataframe",
              "variable_name": "data",
              "summary": "{\n  \"name\": \"data\",\n  \"rows\": 1000,\n  \"fields\": [\n    {\n      \"column\": \"Order_ID\",\n      \"properties\": {\n        \"dtype\": \"number\",\n        \"std\": 288,\n        \"min\": 1,\n        \"max\": 1000,\n        \"num_unique_values\": 1000,\n        \"samples\": [\n          667,\n          130,\n          785\n        ],\n        \"semantic_type\": \"\",\n        \"description\": \"\"\n      }\n    },\n    {\n      \"column\": \"Distance_km\",\n      \"properties\": {\n        \"dtype\": \"number\",\n        \"std\": 5.696655526120854,\n        \"min\": 0.59,\n        \"max\": 19.99,\n        \"num_unique_values\": 785,\n        \"samples\": [\n          1.57,\n          8.68,\n          5.61\n        ],\n        \"semantic_type\": \"\",\n        \"description\": \"\"\n      }\n    },\n    {\n      \"column\": \"Weather\",\n      \"properties\": {\n        \"dtype\": \"category\",\n        \"num_unique_values\": 5,\n        \"samples\": [\n          \"Clear\",\n          \"Snowy\",\n          \"Foggy\"\n        ],\n        \"semantic_type\": \"\",\n        \"description\": \"\"\n      }\n    },\n    {\n      \"column\": \"Traffic_Level\",\n      \"properties\": {\n        \"dtype\": \"category\",\n        \"num_unique_values\": 3,\n        \"samples\": [\n          \"Low\",\n          \"Medium\",\n          \"High\"\n        ],\n        \"semantic_type\": \"\",\n        \"description\": \"\"\n      }\n    },\n    {\n      \"column\": \"Time_of_Day\",\n      \"properties\": {\n        \"dtype\": \"category\",\n        \"num_unique_values\": 4,\n        \"samples\": [\n          \"Evening\",\n          \"Morning\",\n          \"Afternoon\"\n        ],\n        \"semantic_type\": \"\",\n        \"description\": \"\"\n      }\n    },\n    {\n      \"column\": \"Vehicle_Type\",\n      \"properties\": {\n        \"dtype\": \"category\",\n        \"num_unique_values\": 3,\n        \"samples\": [\n          \"Scooter\",\n          \"Bike\",\n          \"Car\"\n        ],\n        \"semantic_type\": \"\",\n        \"description\": \"\"\n      }\n    },\n    {\n      \"column\": \"Preparation_Time_min\",\n      \"properties\": {\n        \"dtype\": \"number\",\n        \"std\": 7,\n        \"min\": 5,\n        \"max\": 29,\n        \"num_unique_values\": 25,\n        \"samples\": [\n          10,\n          22,\n          12\n        ],\n        \"semantic_type\": \"\",\n        \"description\": \"\"\n      }\n    },\n    {\n      \"column\": \"Courier_Experience_yrs\",\n      \"properties\": {\n        \"dtype\": \"number\",\n        \"std\": 2.9143939478823073,\n        \"min\": 0.0,\n        \"max\": 9.0,\n        \"num_unique_values\": 10,\n        \"samples\": [\n          8.0,\n          2.0,\n          4.0\n        ],\n        \"semantic_type\": \"\",\n        \"description\": \"\"\n      }\n    },\n    {\n      \"column\": \"Delivery_Time_min\",\n      \"properties\": {\n        \"dtype\": \"number\",\n        \"std\": 22,\n        \"min\": 8,\n        \"max\": 153,\n        \"num_unique_values\": 108,\n        \"samples\": [\n          21,\n          88,\n          68\n        ],\n        \"semantic_type\": \"\",\n        \"description\": \"\"\n      }\n    }\n  ]\n}"
            }
          },
          "metadata": {},
          "execution_count": 27
        }
      ]
    },
    {
      "cell_type": "code",
      "source": [
        "data.info()"
      ],
      "metadata": {
        "colab": {
          "base_uri": "https://localhost:8080/"
        },
        "id": "EQH77f1gHZIq",
        "outputId": "9832eac3-c6a3-4595-c0eb-53c102c371a7"
      },
      "execution_count": null,
      "outputs": [
        {
          "output_type": "stream",
          "name": "stdout",
          "text": [
            "<class 'pandas.core.frame.DataFrame'>\n",
            "RangeIndex: 1000 entries, 0 to 999\n",
            "Data columns (total 9 columns):\n",
            " #   Column                  Non-Null Count  Dtype  \n",
            "---  ------                  --------------  -----  \n",
            " 0   Order_ID                1000 non-null   int64  \n",
            " 1   Distance_km             1000 non-null   float64\n",
            " 2   Weather                 970 non-null    object \n",
            " 3   Traffic_Level           970 non-null    object \n",
            " 4   Time_of_Day             970 non-null    object \n",
            " 5   Vehicle_Type            1000 non-null   object \n",
            " 6   Preparation_Time_min    1000 non-null   int64  \n",
            " 7   Courier_Experience_yrs  970 non-null    float64\n",
            " 8   Delivery_Time_min       1000 non-null   int64  \n",
            "dtypes: float64(2), int64(3), object(4)\n",
            "memory usage: 70.4+ KB\n"
          ]
        }
      ]
    },
    {
      "cell_type": "code",
      "source": [
        "data[\"Time_of_Day\"].unique()"
      ],
      "metadata": {
        "colab": {
          "base_uri": "https://localhost:8080/"
        },
        "id": "ytTS-msTjtwm",
        "outputId": "24f7987f-e27a-4f8d-8858-e8f4dba77378"
      },
      "execution_count": null,
      "outputs": [
        {
          "output_type": "execute_result",
          "data": {
            "text/plain": [
              "array(['Afternoon', 'Evening', 'Night', 'Morning', nan], dtype=object)"
            ]
          },
          "metadata": {},
          "execution_count": 29
        }
      ]
    },
    {
      "cell_type": "markdown",
      "source": [
        "Data Preprocessing"
      ],
      "metadata": {
        "id": "6zNlXaU7ItxR"
      }
    },
    {
      "cell_type": "markdown",
      "source": [
        "1)HANDLING THE MISSING DATA"
      ],
      "metadata": {
        "id": "0naPpQIOKdNm"
      }
    },
    {
      "cell_type": "markdown",
      "source": [
        "VISUALIZATION"
      ],
      "metadata": {
        "id": "I_sVrRhMgUlY"
      }
    },
    {
      "cell_type": "code",
      "source": [
        "data.drop(columns=\"Order_ID\",inplace=True)\n",
        "categorical_columns = data.select_dtypes(include=[\"object\"]).columns\n",
        "continous_columns = data.select_dtypes(include=[\"float64\",\"int64\"]).columns"
      ],
      "metadata": {
        "id": "jCOZ9Yn_iOYo"
      },
      "execution_count": null,
      "outputs": []
    },
    {
      "cell_type": "code",
      "source": [
        "fig,axs=plt.subplots(4,1,figsize=(10,10))\n",
        "for i ,col in enumerate(continous_columns):\n",
        "  sns.boxplot(data=data,x=col,ax=axs[i])\n",
        "plt.tight_layout()\n",
        "plt.show()\n"
      ],
      "metadata": {
        "colab": {
          "base_uri": "https://localhost:8080/",
          "height": 873
        },
        "id": "dphGSy7DeGGa",
        "outputId": "123a2ab5-bc18-441b-b3a2-4be50b033884"
      },
      "execution_count": null,
      "outputs": [
        {
          "output_type": "display_data",
          "data": {
            "text/plain": [
              "<Figure size 1000x1000 with 4 Axes>"
            ],
            "image/png": "[encoded data removed]"
          },
          "metadata": {}
        }
      ]
    },
    {
      "cell_type": "code",
      "source": [
        "\n",
        "\n",
        "\n",
        "for col in continous_columns:\n",
        "  data[col].fillna(data[col].median(),inplace=True)\n",
        "\n",
        "\n",
        "for col in categorical_columns:\n",
        "  data[col].fillna(data[col].mode()[0],inplace=True)\n"
      ],
      "metadata": {
        "colab": {
          "base_uri": "https://localhost:8080/"
        },
        "id": "gZ-lpHoQIpn9",
        "outputId": "113d23ae-617b-45d3-d2df-660fdc494baa"
      },
      "execution_count": null,
      "outputs": [
        {
          "output_type": "stream",
          "name": "stderr",
          "text": [
            "<ipython-input-32-3b45f581f4ee>:2: FutureWarning: A value is trying to be set on a copy of a DataFrame or Series through chained assignment using an inplace method.\n",
            "The behavior will change in pandas 3.0. This inplace method will never work because the intermediate object on which we are setting values always behaves as a copy.\n",
            "\n",
            "For example, when doing 'df[col].method(value, inplace=True)', try using 'df.method({col: value}, inplace=True)' or df[col] = df[col].method(value) instead, to perform the operation inplace on the original object.\n",
            "\n",
            "\n",
            "  data[col].fillna(data[col].median(),inplace=True)\n",
            "<ipython-input-32-3b45f581f4ee>:6: FutureWarning: A value is trying to be set on a copy of a DataFrame or Series through chained assignment using an inplace method.\n",
            "The behavior will change in pandas 3.0. This inplace method will never work because the intermediate object on which we are setting values always behaves as a copy.\n",
            "\n",
            "For example, when doing 'df[col].method(value, inplace=True)', try using 'df.method({col: value}, inplace=True)' or df[col] = df[col].method(value) instead, to perform the operation inplace on the original object.\n",
            "\n",
            "\n",
            "  data[col].fillna(data[col].mode()[0],inplace=True)\n"
          ]
        }
      ]
    },
    {
      "cell_type": "code",
      "source": [
        "data.info()"
      ],
      "metadata": {
        "colab": {
          "base_uri": "https://localhost:8080/"
        },
        "id": "Dkbwir-9dHIv",
        "outputId": "e75232af-9d9b-43a0-e4ee-69482ec5e429"
      },
      "execution_count": null,
      "outputs": [
        {
          "output_type": "stream",
          "name": "stdout",
          "text": [
            "<class 'pandas.core.frame.DataFrame'>\n",
            "RangeIndex: 1000 entries, 0 to 999\n",
            "Data columns (total 8 columns):\n",
            " #   Column                  Non-Null Count  Dtype  \n",
            "---  ------                  --------------  -----  \n",
            " 0   Distance_km             1000 non-null   float64\n",
            " 1   Weather                 1000 non-null   object \n",
            " 2   Traffic_Level           1000 non-null   object \n",
            " 3   Time_of_Day             1000 non-null   object \n",
            " 4   Vehicle_Type            1000 non-null   object \n",
            " 5   Preparation_Time_min    1000 non-null   int64  \n",
            " 6   Courier_Experience_yrs  1000 non-null   float64\n",
            " 7   Delivery_Time_min       1000 non-null   int64  \n",
            "dtypes: float64(2), int64(2), object(4)\n",
            "memory usage: 62.6+ KB\n"
          ]
        }
      ]
    },
    {
      "cell_type": "markdown",
      "source": [
        "DROPPING OUTLIERS"
      ],
      "metadata": {
        "id": "SbIUdzIpcXBd"
      }
    },
    {
      "cell_type": "code",
      "source": [
        "Q1 = data['Delivery_Time_min'].quantile(0.25)\n",
        "Q3 = data['Delivery_Time_min'].quantile(0.75)\n",
        "\n",
        "\n",
        "IQR = Q3 - Q1\n",
        "\n",
        "\n",
        "lower_bound = Q1 - 1.5 * IQR\n",
        "upper_bound = Q3 + 1.5 * IQR\n",
        "\n",
        "data=data.loc[(data[\"Delivery_Time_min\"]>=lower_bound) & (data[\"Delivery_Time_min\"]<=upper_bound)]\n",
        "data = data.reset_index(drop=True)\n",
        "data.shape\n"
      ],
      "metadata": {
        "colab": {
          "base_uri": "https://localhost:8080/"
        },
        "id": "RT_CtctjiK9R",
        "outputId": "48ef4cd8-aaf7-4920-e487-74a2b2dca123"
      },
      "execution_count": null,
      "outputs": [
        {
          "output_type": "execute_result",
          "data": {
            "text/plain": [
              "(994, 8)"
            ]
          },
          "metadata": {},
          "execution_count": 34
        }
      ]
    },
    {
      "cell_type": "code",
      "source": [
        "data.info()"
      ],
      "metadata": {
        "colab": {
          "base_uri": "https://localhost:8080/"
        },
        "id": "hxbWQvT4c45O",
        "outputId": "5583f49d-8291-42de-a627-784caf6c8823"
      },
      "execution_count": null,
      "outputs": [
        {
          "output_type": "stream",
          "name": "stdout",
          "text": [
            "<class 'pandas.core.frame.DataFrame'>\n",
            "RangeIndex: 994 entries, 0 to 993\n",
            "Data columns (total 8 columns):\n",
            " #   Column                  Non-Null Count  Dtype  \n",
            "---  ------                  --------------  -----  \n",
            " 0   Distance_km             994 non-null    float64\n",
            " 1   Weather                 994 non-null    object \n",
            " 2   Traffic_Level           994 non-null    object \n",
            " 3   Time_of_Day             994 non-null    object \n",
            " 4   Vehicle_Type            994 non-null    object \n",
            " 5   Preparation_Time_min    994 non-null    int64  \n",
            " 6   Courier_Experience_yrs  994 non-null    float64\n",
            " 7   Delivery_Time_min       994 non-null    int64  \n",
            "dtypes: float64(2), int64(2), object(4)\n",
            "memory usage: 62.2+ KB\n"
          ]
        }
      ]
    },
    {
      "cell_type": "code",
      "source": [
        "data.duplicated().sum()"
      ],
      "metadata": {
        "id": "MdC9NiFZBV9t",
        "colab": {
          "base_uri": "https://localhost:8080/"
        },
        "outputId": "4996c86e-7b97-4019-f24d-f4be17b7362c"
      },
      "execution_count": null,
      "outputs": [
        {
          "output_type": "execute_result",
          "data": {
            "text/plain": [
              "0"
            ]
          },
          "metadata": {},
          "execution_count": 36
        }
      ]
    },
    {
      "cell_type": "markdown",
      "source": [
        "Drop duplicated values"
      ],
      "metadata": {
        "id": "vqwn33aMU7mV"
      }
    },
    {
      "cell_type": "code",
      "source": [
        "data.drop_duplicates(inplace=True)"
      ],
      "metadata": {
        "id": "P1jN4GZNU4mK"
      },
      "execution_count": null,
      "outputs": []
    },
    {
      "cell_type": "code",
      "source": [
        "data[\"Vehicle_Type\"].unique()"
      ],
      "metadata": {
        "id": "70Pok2HTBVn3",
        "colab": {
          "base_uri": "https://localhost:8080/"
        },
        "outputId": "699579de-7c1c-4c19-eeb1-551cecd9c5c0"
      },
      "execution_count": null,
      "outputs": [
        {
          "output_type": "execute_result",
          "data": {
            "text/plain": [
              "array(['Scooter', 'Bike', 'Car'], dtype=object)"
            ]
          },
          "metadata": {},
          "execution_count": 38
        }
      ]
    },
    {
      "cell_type": "markdown",
      "source": [
        "ENCODING"
      ],
      "metadata": {
        "id": "nIdV38kVQTeg"
      }
    },
    {
      "cell_type": "code",
      "source": [
        "from sklearn.preprocessing import LabelEncoder\n",
        "from sklearn.preprocessing import OneHotEncoder\n",
        "\n",
        "label_encoder = LabelEncoder()\n",
        "one_hot_encoder = OneHotEncoder()\n",
        "\n",
        "data['Traffic_Level']=data['Traffic_Level'].map({'Low':0,'Medium':1,'High':2})\n",
        "data['Vehicle_Type']=data['Vehicle_Type'].map({'Scooter':0,'Bike':1,'Car':2})\n",
        "data['Time_of_Day']=data['Time_of_Day'].map({'Morning':0,'Afternoon':1,'Evening':2,\"Night\":3})\n",
        "for col in categorical_columns:\n",
        "  if col in [\"Weather\"]:\n",
        "    encoded_col = one_hot_encoder.fit_transform(data[[col]]).toarray()\n",
        "\n",
        "    encoded_df = pd.DataFrame(encoded_col, columns=one_hot_encoder.get_feature_names_out([col]))\n",
        "\n",
        "    data=data.drop(col,axis=1)\n",
        "    data = data.join(encoded_df)\n",
        "  elif col not in[\"Vehicle_Type\",\"Weather\",\"Traffic_Level\",\"Time_of_Day\"]:\n",
        "    data[col]=label_encoder.fit_transform(data[col])\n"
      ],
      "metadata": {
        "id": "Voq0hzFvQWyd"
      },
      "execution_count": null,
      "outputs": []
    },
    {
      "cell_type": "code",
      "source": [
        "data.corr()"
      ],
      "metadata": {
        "colab": {
          "base_uri": "https://localhost:8080/",
          "height": 445
        },
        "id": "W4PZbVtNhEyv",
        "outputId": "373ba9e1-ae89-494f-fe79-c8bee0ccb5a5"
      },
      "execution_count": null,
      "outputs": [
        {
          "output_type": "execute_result",
          "data": {
            "text/plain": [
              "                        Distance_km  Traffic_Level  Time_of_Day  Vehicle_Type  \\\n",
              "Distance_km                1.000000       0.010175    -0.041244      0.018046   \n",
              "Traffic_Level              0.010175       1.000000     0.015530     -0.054436   \n",
              "Time_of_Day               -0.041244       0.015530     1.000000     -0.027430   \n",
              "Vehicle_Type               0.018046      -0.054436    -0.027430      1.000000   \n",
              "Preparation_Time_min      -0.013415      -0.025992     0.037023     -0.014110   \n",
              "Courier_Experience_yrs    -0.005914       0.041983     0.022399     -0.004160   \n",
              "Delivery_Time_min          0.788343       0.201855    -0.001982      0.030738   \n",
              "Weather_Clear             -0.051335      -0.010900    -0.003088     -0.073720   \n",
              "Weather_Foggy             -0.023860      -0.030997     0.027182      0.000415   \n",
              "Weather_Rainy              0.028846       0.011486     0.027112      0.009859   \n",
              "Weather_Snowy              0.075548      -0.027751     0.016658      0.075217   \n",
              "Weather_Windy             -0.003697       0.062958    -0.076846      0.035529   \n",
              "\n",
              "                        Preparation_Time_min  Courier_Experience_yrs  \\\n",
              "Distance_km                        -0.013415               -0.005914   \n",
              "Traffic_Level                      -0.025992                0.041983   \n",
              "Time_of_Day                         0.037023                0.022399   \n",
              "Vehicle_Type                       -0.014110               -0.004160   \n",
              "Preparation_Time_min                1.000000               -0.027556   \n",
              "Courier_Experience_yrs             -0.027556                1.000000   \n",
              "Delivery_Time_min                   0.307307               -0.086789   \n",
              "Weather_Clear                       0.012571               -0.051091   \n",
              "Weather_Foggy                      -0.015516               -0.054361   \n",
              "Weather_Rainy                       0.016706                0.071914   \n",
              "Weather_Snowy                       0.020194                0.012063   \n",
              "Weather_Windy                      -0.048542                0.032637   \n",
              "\n",
              "                        Delivery_Time_min  Weather_Clear  Weather_Foggy  \\\n",
              "Distance_km                      0.788343      -0.051335      -0.023860   \n",
              "Traffic_Level                    0.201855      -0.010900      -0.030997   \n",
              "Time_of_Day                     -0.001982      -0.003088       0.027182   \n",
              "Vehicle_Type                     0.030738      -0.073720       0.000415   \n",
              "Preparation_Time_min             0.307307       0.012571      -0.015516   \n",
              "Courier_Experience_yrs          -0.086789      -0.051091      -0.054361   \n",
              "Delivery_Time_min                1.000000      -0.170785       0.051202   \n",
              "Weather_Clear                   -0.170785       1.000000      -0.340001   \n",
              "Weather_Foggy                    0.051202      -0.340001       1.000000   \n",
              "Weather_Rainy                    0.066515      -0.505025      -0.171709   \n",
              "Weather_Snowy                    0.167780      -0.328844      -0.111807   \n",
              "Weather_Windy                   -0.023017      -0.325074      -0.110525   \n",
              "\n",
              "                        Weather_Rainy  Weather_Snowy  Weather_Windy  \n",
              "Distance_km                  0.028846       0.075548      -0.003697  \n",
              "Traffic_Level                0.011486      -0.027751       0.062958  \n",
              "Time_of_Day                  0.027112       0.016658      -0.076846  \n",
              "Vehicle_Type                 0.009859       0.075217       0.035529  \n",
              "Preparation_Time_min         0.016706       0.020194      -0.048542  \n",
              "Courier_Experience_yrs       0.071914       0.012063       0.032637  \n",
              "Delivery_Time_min            0.066515       0.167780      -0.023017  \n",
              "Weather_Clear               -0.505025      -0.328844      -0.325074  \n",
              "Weather_Foggy               -0.171709      -0.111807      -0.110525  \n",
              "Weather_Rainy                1.000000      -0.166074      -0.164170  \n",
              "Weather_Snowy               -0.166074       1.000000      -0.106898  \n",
              "Weather_Windy               -0.164170      -0.106898       1.000000  "
            ],
            "text/html": [
              "\n",
              "  <div id=\"df-8358d5f5-1bb5-4d04-a329-814406b526b7\" class=\"colab-df-container\">\n",
              "    <div>\n",
              "<style scoped>\n",
              "    .dataframe tbody tr th:only-of-type {\n",
              "        vertical-align: middle;\n",
              "    }\n",
              "\n",
              "    .dataframe tbody tr th {\n",
              "        vertical-align: top;\n",
              "    }\n",
              "\n",
              "    .dataframe thead th {\n",
              "        text-align: right;\n",
              "    }\n",
              "</style>\n",
              "<table border=\"1\" class=\"dataframe\">\n",
              "  <thead>\n",
              "    <tr style=\"text-align: right;\">\n",
              "      <th></th>\n",
              "      <th>Distance_km</th>\n",
              "      <th>Traffic_Level</th>\n",
              "      <th>Time_of_Day</th>\n",
              "      <th>Vehicle_Type</th>\n",
              "      <th>Preparation_Time_min</th>\n",
              "      <th>Courier_Experience_yrs</th>\n",
              "      <th>Delivery_Time_min</th>\n",
              "      <th>Weather_Clear</th>\n",
              "      <th>Weather_Foggy</th>\n",
              "      <th>Weather_Rainy</th>\n",
              "      <th>Weather_Snowy</th>\n",
              "      <th>Weather_Windy</th>\n",
              "    </tr>\n",
              "  </thead>\n",
              "  <tbody>\n",
              "    <tr>\n",
              "      <th>Distance_km</th>\n",
              "      <td>1.000000</td>\n",
              "      <td>0.010175</td>\n",
              "      <td>-0.041244</td>\n",
              "      <td>0.018046</td>\n",
              "      <td>-0.013415</td>\n",
              "      <td>-0.005914</td>\n",
              "      <td>0.788343</td>\n",
              "      <td>-0.051335</td>\n",
              "      <td>-0.023860</td>\n",
              "      <td>0.028846</td>\n",
              "      <td>0.075548</td>\n",
              "      <td>-0.003697</td>\n",
              "    </tr>\n",
              "    <tr>\n",
              "      <th>Traffic_Level</th>\n",
              "      <td>0.010175</td>\n",
              "      <td>1.000000</td>\n",
              "      <td>0.015530</td>\n",
              "      <td>-0.054436</td>\n",
              "      <td>-0.025992</td>\n",
              "      <td>0.041983</td>\n",
              "      <td>0.201855</td>\n",
              "      <td>-0.010900</td>\n",
              "      <td>-0.030997</td>\n",
              "      <td>0.011486</td>\n",
              "      <td>-0.027751</td>\n",
              "      <td>0.062958</td>\n",
              "    </tr>\n",
              "    <tr>\n",
              "      <th>Time_of_Day</th>\n",
              "      <td>-0.041244</td>\n",
              "      <td>0.015530</td>\n",
              "      <td>1.000000</td>\n",
              "      <td>-0.027430</td>\n",
              "      <td>0.037023</td>\n",
              "      <td>0.022399</td>\n",
              "      <td>-0.001982</td>\n",
              "      <td>-0.003088</td>\n",
              "      <td>0.027182</td>\n",
              "      <td>0.027112</td>\n",
              "      <td>0.016658</td>\n",
              "      <td>-0.076846</td>\n",
              "    </tr>\n",
              "    <tr>\n",
              "      <th>Vehicle_Type</th>\n",
              "      <td>0.018046</td>\n",
              "      <td>-0.054436</td>\n",
              "      <td>-0.027430</td>\n",
              "      <td>1.000000</td>\n",
              "      <td>-0.014110</td>\n",
              "      <td>-0.004160</td>\n",
              "      <td>0.030738</td>\n",
              "      <td>-0.073720</td>\n",
              "      <td>0.000415</td>\n",
              "      <td>0.009859</td>\n",
              "      <td>0.075217</td>\n",
              "      <td>0.035529</td>\n",
              "    </tr>\n",
              "    <tr>\n",
              "      <th>Preparation_Time_min</th>\n",
              "      <td>-0.013415</td>\n",
              "      <td>-0.025992</td>\n",
              "      <td>0.037023</td>\n",
              "      <td>-0.014110</td>\n",
              "      <td>1.000000</td>\n",
              "      <td>-0.027556</td>\n",
              "      <td>0.307307</td>\n",
              "      <td>0.012571</td>\n",
              "      <td>-0.015516</td>\n",
              "      <td>0.016706</td>\n",
              "      <td>0.020194</td>\n",
              "      <td>-0.048542</td>\n",
              "    </tr>\n",
              "    <tr>\n",
              "      <th>Courier_Experience_yrs</th>\n",
              "      <td>-0.005914</td>\n",
              "      <td>0.041983</td>\n",
              "      <td>0.022399</td>\n",
              "      <td>-0.004160</td>\n",
              "      <td>-0.027556</td>\n",
              "      <td>1.000000</td>\n",
              "      <td>-0.086789</td>\n",
              "      <td>-0.051091</td>\n",
              "      <td>-0.054361</td>\n",
              "      <td>0.071914</td>\n",
              "      <td>0.012063</td>\n",
              "      <td>0.032637</td>\n",
              "    </tr>\n",
              "    <tr>\n",
              "      <th>Delivery_Time_min</th>\n",
              "      <td>0.788343</td>\n",
              "      <td>0.201855</td>\n",
              "      <td>-0.001982</td>\n",
              "      <td>0.030738</td>\n",
              "      <td>0.307307</td>\n",
              "      <td>-0.086789</td>\n",
              "      <td>1.000000</td>\n",
              "      <td>-0.170785</td>\n",
              "      <td>0.051202</td>\n",
              "      <td>0.066515</td>\n",
              "      <td>0.167780</td>\n",
              "      <td>-0.023017</td>\n",
              "    </tr>\n",
              "    <tr>\n",
              "      <th>Weather_Clear</th>\n",
              "      <td>-0.051335</td>\n",
              "      <td>-0.010900</td>\n",
              "      <td>-0.003088</td>\n",
              "      <td>-0.073720</td>\n",
              "      <td>0.012571</td>\n",
              "      <td>-0.051091</td>\n",
              "      <td>-0.170785</td>\n",
              "      <td>1.000000</td>\n",
              "      <td>-0.340001</td>\n",
              "      <td>-0.505025</td>\n",
              "      <td>-0.328844</td>\n",
              "      <td>-0.325074</td>\n",
              "    </tr>\n",
              "    <tr>\n",
              "      <th>Weather_Foggy</th>\n",
              "      <td>-0.023860</td>\n",
              "      <td>-0.030997</td>\n",
              "      <td>0.027182</td>\n",
              "      <td>0.000415</td>\n",
              "      <td>-0.015516</td>\n",
              "      <td>-0.054361</td>\n",
              "      <td>0.051202</td>\n",
              "      <td>-0.340001</td>\n",
              "      <td>1.000000</td>\n",
              "      <td>-0.171709</td>\n",
              "      <td>-0.111807</td>\n",
              "      <td>-0.110525</td>\n",
              "    </tr>\n",
              "    <tr>\n",
              "      <th>Weather_Rainy</th>\n",
              "      <td>0.028846</td>\n",
              "      <td>0.011486</td>\n",
              "      <td>0.027112</td>\n",
              "      <td>0.009859</td>\n",
              "      <td>0.016706</td>\n",
              "      <td>0.071914</td>\n",
              "      <td>0.066515</td>\n",
              "      <td>-0.505025</td>\n",
              "      <td>-0.171709</td>\n",
              "      <td>1.000000</td>\n",
              "      <td>-0.166074</td>\n",
              "      <td>-0.164170</td>\n",
              "    </tr>\n",
              "    <tr>\n",
              "      <th>Weather_Snowy</th>\n",
              "      <td>0.075548</td>\n",
              "      <td>-0.027751</td>\n",
              "      <td>0.016658</td>\n",
              "      <td>0.075217</td>\n",
              "      <td>0.020194</td>\n",
              "      <td>0.012063</td>\n",
              "      <td>0.167780</td>\n",
              "      <td>-0.328844</td>\n",
              "      <td>-0.111807</td>\n",
              "      <td>-0.166074</td>\n",
              "      <td>1.000000</td>\n",
              "      <td>-0.106898</td>\n",
              "    </tr>\n",
              "    <tr>\n",
              "      <th>Weather_Windy</th>\n",
              "      <td>-0.003697</td>\n",
              "      <td>0.062958</td>\n",
              "      <td>-0.076846</td>\n",
              "      <td>0.035529</td>\n",
              "      <td>-0.048542</td>\n",
              "      <td>0.032637</td>\n",
              "      <td>-0.023017</td>\n",
              "      <td>-0.325074</td>\n",
              "      <td>-0.110525</td>\n",
              "      <td>-0.164170</td>\n",
              "      <td>-0.106898</td>\n",
              "      <td>1.000000</td>\n",
              "    </tr>\n",
              "  </tbody>\n",
              "</table>\n",
              "</div>\n",
              "    <div class=\"colab-df-buttons\">\n",
              "\n",
              "  <div class=\"colab-df-container\">\n",
              "    <button class=\"colab-df-convert\" onclick=\"convertToInteractive('df-8358d5f5-1bb5-4d04-a329-814406b526b7')\"\n",
              "            title=\"Convert this dataframe to an interactive table.\"\n",
              "            style=\"display:none;\">\n",
              "\n",
              "  <svg xmlns=\"http://www.w3.org/2000/svg\" height=\"24px\" viewBox=\"0 -960 960 960\">\n",
              "    <path d=\"M120-120v-720h720v720H120Zm60-500h600v-160H180v160Zm220 220h160v-160H400v160Zm0 220h160v-160H400v160ZM180-400h160v-160H180v160Zm440 0h160v-160H620v160ZM180-180h160v-160H180v160Zm440 0h160v-160H620v160Z\"/>\n",
              "  </svg>\n",
              "    </button>\n",
              "\n",
              "  <style>\n",
              "    .colab-df-container {\n",
              "      display:flex;\n",
              "      gap: 12px;\n",
              "    }\n",
              "\n",
              "    .colab-df-convert {\n",
              "      background-color: #E8F0FE;\n",
              "      border: none;\n",
              "      border-radius: 50%;\n",
              "      cursor: pointer;\n",
              "      display: none;\n",
              "      fill: #1967D2;\n",
              "      height: 32px;\n",
              "      padding: 0 0 0 0;\n",
              "      width: 32px;\n",
              "    }\n",
              "\n",
              "    .colab-df-convert:hover {\n",
              "      background-color: #E2EBFA;\n",
              "      box-shadow: 0px 1px 2px rgba(60, 64, 67, 0.3), 0px 1px 3px 1px rgba(60, 64, 67, 0.15);\n",
              "      fill: #174EA6;\n",
              "    }\n",
              "\n",
              "    .colab-df-buttons div {\n",
              "      margin-bottom: 4px;\n",
              "    }\n",
              "\n",
              "    [theme=dark] .colab-df-convert {\n",
              "      background-color: #3B4455;\n",
              "      fill: #D2E3FC;\n",
              "    }\n",
              "\n",
              "    [theme=dark] .colab-df-convert:hover {\n",
              "      background-color: #434B5C;\n",
              "      box-shadow: 0px 1px 3px 1px rgba(0, 0, 0, 0.15);\n",
              "      filter: drop-shadow(0px 1px 2px rgba(0, 0, 0, 0.3));\n",
              "      fill: #FFFFFF;\n",
              "    }\n",
              "  </style>\n",
              "\n",
              "    <script>\n",
              "      const buttonEl =\n",
              "        document.querySelector('#df-8358d5f5-1bb5-4d04-a329-814406b526b7 button.colab-df-convert');\n",
              "      buttonEl.style.display =\n",
              "        google.colab.kernel.accessAllowed ? 'block' : 'none';\n",
              "\n",
              "      async function convertToInteractive(key) {\n",
              "        const element = document.querySelector('#df-8358d5f5-1bb5-4d04-a329-814406b526b7');\n",
              "        const dataTable =\n",
              "          await google.colab.kernel.invokeFunction('convertToInteractive',\n",
              "                                                    [key], {});\n",
              "        if (!dataTable) return;\n",
              "\n",
              "        const docLinkHtml = 'Like what you see? Visit the ' +\n",
              "          '<a target=\"_blank\" href=https://colab.research.google.com/notebooks/data_table.ipynb>data table notebook</a>'\n",
              "          + ' to learn more about interactive tables.';\n",
              "        element.innerHTML = '';\n",
              "        dataTable['output_type'] = 'display_data';\n",
              "        await google.colab.output.renderOutput(dataTable, element);\n",
              "        const docLink = document.createElement('div');\n",
              "        docLink.innerHTML = docLinkHtml;\n",
              "        element.appendChild(docLink);\n",
              "      }\n",
              "    </script>\n",
              "  </div>\n",
              "\n",
              "\n",
              "<div id=\"df-bb48b2bb-5243-4442-a39c-3ff07164a560\">\n",
              "  <button class=\"colab-df-quickchart\" onclick=\"quickchart('df-bb48b2bb-5243-4442-a39c-3ff07164a560')\"\n",
              "            title=\"Suggest charts\"\n",
              "            style=\"display:none;\">\n",
              "\n",
              "<svg xmlns=\"http://www.w3.org/2000/svg\" height=\"24px\"viewBox=\"0 0 24 24\"\n",
              "     width=\"24px\">\n",
              "    <g>\n",
              "        <path d=\"M19 3H5c-1.1 0-2 .9-2 2v14c0 1.1.9 2 2 2h14c1.1 0 2-.9 2-2V5c0-1.1-.9-2-2-2zM9 17H7v-7h2v7zm4 0h-2V7h2v10zm4 0h-2v-4h2v4z\"/>\n",
              "    </g>\n",
              "</svg>\n",
              "  </button>\n",
              "\n",
              "<style>\n",
              "  .colab-df-quickchart {\n",
              "      --bg-color: #E8F0FE;\n",
              "      --fill-color: #1967D2;\n",
              "      --hover-bg-color: #E2EBFA;\n",
              "      --hover-fill-color: #174EA6;\n",
              "      --disabled-fill-color: #AAA;\n",
              "      --disabled-bg-color: #DDD;\n",
              "  }\n",
              "\n",
              "  [theme=dark] .colab-df-quickchart {\n",
              "      --bg-color: #3B4455;\n",
              "      --fill-color: #D2E3FC;\n",
              "      --hover-bg-color: #434B5C;\n",
              "      --hover-fill-color: #FFFFFF;\n",
              "      --disabled-bg-color: #3B4455;\n",
              "      --disabled-fill-color: #666;\n",
              "  }\n",
              "\n",
              "  .colab-df-quickchart {\n",
              "    background-color: var(--bg-color);\n",
              "    border: none;\n",
              "    border-radius: 50%;\n",
              "    cursor: pointer;\n",
              "    display: none;\n",
              "    fill: var(--fill-color);\n",
              "    height: 32px;\n",
              "    padding: 0;\n",
              "    width: 32px;\n",
              "  }\n",
              "\n",
              "  .colab-df-quickchart:hover {\n",
              "    background-color: var(--hover-bg-color);\n",
              "    box-shadow: 0 1px 2px rgba(60, 64, 67, 0.3), 0 1px 3px 1px rgba(60, 64, 67, 0.15);\n",
              "    fill: var(--button-hover-fill-color);\n",
              "  }\n",
              "\n",
              "  .colab-df-quickchart-complete:disabled,\n",
              "  .colab-df-quickchart-complete:disabled:hover {\n",
              "    background-color: var(--disabled-bg-color);\n",
              "    fill: var(--disabled-fill-color);\n",
              "    box-shadow: none;\n",
              "  }\n",
              "\n",
              "  .colab-df-spinner {\n",
              "    border: 2px solid var(--fill-color);\n",
              "    border-color: transparent;\n",
              "    border-bottom-color: var(--fill-color);\n",
              "    animation:\n",
              "      spin 1s steps(1) infinite;\n",
              "  }\n",
              "\n",
              "  @keyframes spin {\n",
              "    0% {\n",
              "      border-color: transparent;\n",
              "      border-bottom-color: var(--fill-color);\n",
              "      border-left-color: var(--fill-color);\n",
              "    }\n",
              "    20% {\n",
              "      border-color: transparent;\n",
              "      border-left-color: var(--fill-color);\n",
              "      border-top-color: var(--fill-color);\n",
              "    }\n",
              "    30% {\n",
              "      border-color: transparent;\n",
              "      border-left-color: var(--fill-color);\n",
              "      border-top-color: var(--fill-color);\n",
              "      border-right-color: var(--fill-color);\n",
              "    }\n",
              "    40% {\n",
              "      border-color: transparent;\n",
              "      border-right-color: var(--fill-color);\n",
              "      border-top-color: var(--fill-color);\n",
              "    }\n",
              "    60% {\n",
              "      border-color: transparent;\n",
              "      border-right-color: var(--fill-color);\n",
              "    }\n",
              "    80% {\n",
              "      border-color: transparent;\n",
              "      border-right-color: var(--fill-color);\n",
              "      border-bottom-color: var(--fill-color);\n",
              "    }\n",
              "    90% {\n",
              "      border-color: transparent;\n",
              "      border-bottom-color: var(--fill-color);\n",
              "    }\n",
              "  }\n",
              "</style>\n",
              "\n",
              "  <script>\n",
              "    async function quickchart(key) {\n",
              "      const quickchartButtonEl =\n",
              "        document.querySelector('#' + key + ' button');\n",
              "      quickchartButtonEl.disabled = true;  // To prevent multiple clicks.\n",
              "      quickchartButtonEl.classList.add('colab-df-spinner');\n",
              "      try {\n",
              "        const charts = await google.colab.kernel.invokeFunction(\n",
              "            'suggestCharts', [key], {});\n",
              "      } catch (error) {\n",
              "        console.error('Error during call to suggestCharts:', error);\n",
              "      }\n",
              "      quickchartButtonEl.classList.remove('colab-df-spinner');\n",
              "      quickchartButtonEl.classList.add('colab-df-quickchart-complete');\n",
              "    }\n",
              "    (() => {\n",
              "      let quickchartButtonEl =\n",
              "        document.querySelector('#df-bb48b2bb-5243-4442-a39c-3ff07164a560 button');\n",
              "      quickchartButtonEl.style.display =\n",
              "        google.colab.kernel.accessAllowed ? 'block' : 'none';\n",
              "    })();\n",
              "  </script>\n",
              "</div>\n",
              "\n",
              "    </div>\n",
              "  </div>\n"
            ],
            "application/vnd.google.colaboratory.intrinsic+json": {
              "type": "dataframe",
              "summary": "{\n  \"name\": \"data\",\n  \"rows\": 12,\n  \"fields\": [\n    {\n      \"column\": \"Distance_km\",\n      \"properties\": {\n        \"dtype\": \"number\",\n        \"std\": 0.3527955926311819,\n        \"min\": -0.05133534602137661,\n        \"max\": 1.0,\n        \"num_unique_values\": 12,\n        \"samples\": [\n          0.07554810224392251,\n          0.02884580526229842,\n          1.0\n        ],\n        \"semantic_type\": \"\",\n        \"description\": \"\"\n      }\n    },\n    {\n      \"column\": \"Traffic_Level\",\n      \"properties\": {\n        \"dtype\": \"number\",\n        \"std\": 0.29133729635483685,\n        \"min\": -0.05443600145352634,\n        \"max\": 1.0,\n        \"num_unique_values\": 12,\n        \"samples\": [\n          -0.02775103497405764,\n          0.011486312822808995,\n          0.010174678470083694\n        ],\n        \"semantic_type\": \"\",\n        \"description\": \"\"\n      }\n    },\n    {\n      \"column\": \"Time_of_Day\",\n      \"properties\": {\n        \"dtype\": \"number\",\n        \"std\": 0.2907174960387959,\n        \"min\": -0.07684631640708452,\n        \"max\": 1.0,\n        \"num_unique_values\": 12,\n        \"samples\": [\n          0.016657845569100632,\n          0.027112185316614416,\n          -0.04124439021683783\n        ],\n        \"semantic_type\": \"\",\n        \"description\": \"\"\n      }\n    },\n    {\n      \"column\": \"Vehicle_Type\",\n      \"properties\": {\n        \"dtype\": \"number\",\n        \"std\": 0.2915468266885461,\n        \"min\": -0.07372028490817735,\n        \"max\": 1.0,\n        \"num_unique_values\": 12,\n        \"samples\": [\n          0.0752167953798738,\n          0.00985877418777405,\n          0.018046241084817893\n        ],\n        \"semantic_type\": \"\",\n        \"description\": \"\"\n      }\n    },\n    {\n      \"column\": \"Preparation_Time_min\",\n      \"properties\": {\n        \"dtype\": \"number\",\n        \"std\": 0.29712759696224916,\n        \"min\": -0.048542438628472455,\n        \"max\": 1.0,\n        \"num_unique_values\": 12,\n        \"samples\": [\n          0.020193874636690905,\n          0.016706148495154918,\n          -0.013414587362254897\n        ],\n        \"semantic_type\": \"\",\n        \"description\": \"\"\n      }\n    },\n    {\n      \"column\": \"Courier_Experience_yrs\",\n      \"properties\": {\n        \"dtype\": \"number\",\n        \"std\": 0.2934387496631965,\n        \"min\": -0.08678871074970963,\n        \"max\": 1.0,\n        \"num_unique_values\": 12,\n        \"samples\": [\n          0.012062723063758751,\n          0.07191423809500307,\n          -0.005914016533933829\n        ],\n        \"semantic_type\": \"\",\n        \"description\": \"\"\n      }\n    },\n    {\n      \"column\": \"Delivery_Time_min\",\n      \"properties\": {\n        \"dtype\": \"number\",\n        \"std\": 0.3538335867843002,\n        \"min\": -0.17078459995533046,\n        \"max\": 1.0,\n        \"num_unique_values\": 12,\n        \"samples\": [\n          0.16777996174937318,\n          0.06651493884953591,\n          0.7883433012095016\n        ],\n        \"semantic_type\": \"\",\n        \"description\": \"\"\n      }\n    },\n    {\n      \"column\": \"Weather_Clear\",\n      \"properties\": {\n        \"dtype\": \"number\",\n        \"std\": 0.3771629594600895,\n        \"min\": -0.5050252518939072,\n        \"max\": 1.0,\n        \"num_unique_values\": 12,\n        \"samples\": [\n          -0.32884379053438256,\n          -0.5050252518939072,\n          -0.05133534602137661\n        ],\n        \"semantic_type\": \"\",\n        \"description\": \"\"\n      }\n    },\n    {\n      \"column\": \"Weather_Foggy\",\n      \"properties\": {\n        \"dtype\": \"number\",\n        \"std\": 0.32667102610646725,\n        \"min\": -0.34000066019609754,\n        \"max\": 1.0,\n        \"num_unique_values\": 12,\n        \"samples\": [\n          -0.11180710588307764,\n          -0.17170891905962926,\n          -0.02386018880478987\n        ],\n        \"semantic_type\": \"\",\n        \"description\": \"\"\n      }\n    },\n    {\n      \"column\": \"Weather_Rainy\",\n      \"properties\": {\n        \"dtype\": \"number\",\n        \"std\": 0.34987041676778174,\n        \"min\": -0.5050252518939072,\n        \"max\": 1.0,\n        \"num_unique_values\": 12,\n        \"samples\": [\n          -0.16607441814837418,\n          1.0,\n          0.02884580526229842\n        ],\n        \"semantic_type\": \"\",\n        \"description\": \"\"\n      }\n    },\n    {\n      \"column\": \"Weather_Snowy\",\n      \"properties\": {\n        \"dtype\": \"number\",\n        \"std\": 0.32586919106193246,\n        \"min\": -0.32884379053438256,\n        \"max\": 1.0,\n        \"num_unique_values\": 12,\n        \"samples\": [\n          1.0,\n          -0.16607441814837418,\n          0.07554810224392251\n        ],\n        \"semantic_type\": \"\",\n        \"description\": \"\"\n      }\n    },\n    {\n      \"column\": \"Weather_Windy\",\n      \"properties\": {\n        \"dtype\": \"number\",\n        \"std\": 0.3254623379136724,\n        \"min\": -0.3250737915714366,\n        \"max\": 1.0,\n        \"num_unique_values\": 12,\n        \"samples\": [\n          -0.10689849782373519,\n          -0.16417047347247257,\n          -0.003697286224559241\n        ],\n        \"semantic_type\": \"\",\n        \"description\": \"\"\n      }\n    }\n  ]\n}"
            }
          },
          "metadata": {},
          "execution_count": 40
        }
      ]
    },
    {
      "cell_type": "markdown",
      "source": [
        "SCALING"
      ],
      "metadata": {
        "id": "k7jcg3WiTOCy"
      }
    },
    {
      "cell_type": "code",
      "source": [
        "import matplotlib.pyplot as plt\n",
        "import seaborn as sns\n",
        "\n",
        "print(data.columns)\n"
      ],
      "metadata": {
        "colab": {
          "base_uri": "https://localhost:8080/"
        },
        "id": "ukLL54u3Qce8",
        "outputId": "080af2c5-afae-4fd7-e07d-6d6e154324fd"
      },
      "execution_count": null,
      "outputs": [
        {
          "output_type": "stream",
          "name": "stdout",
          "text": [
            "Index(['Distance_km', 'Traffic_Level', 'Time_of_Day', 'Vehicle_Type',\n",
            "       'Preparation_Time_min', 'Courier_Experience_yrs', 'Delivery_Time_min',\n",
            "       'Weather_Clear', 'Weather_Foggy', 'Weather_Rainy', 'Weather_Snowy',\n",
            "       'Weather_Windy'],\n",
            "      dtype='object')\n"
          ]
        }
      ]
    },
    {
      "cell_type": "markdown",
      "source": [],
      "metadata": {
        "id": "qrN4jxn1ml5J"
      }
    },
    {
      "cell_type": "code",
      "source": [
        "# Density plot\n",
        "fig , axs =plt.subplots(4,1,figsize=(20,10))\n",
        "\n",
        "for i,col in enumerate(continous_columns):\n",
        "  sns.kdeplot(data[col],ax=axs[i],shade=True)\n",
        "  axs[i].set_xlabel(col)\n",
        "plt.tight_layout()\n",
        "plt.show()\n"
      ],
      "metadata": {
        "colab": {
          "base_uri": "https://localhost:8080/",
          "height": 859
        },
        "id": "DjqbgDyZTVNJ",
        "outputId": "7e2ebadd-ce83-424c-b9bf-adb809518f1a"
      },
      "execution_count": null,
      "outputs": [
        {
          "output_type": "stream",
          "name": "stderr",
          "text": [
            "<ipython-input-42-185ebfa5319a>:5: FutureWarning: \n",
            "\n",
            "`shade` is now deprecated in favor of `fill`; setting `fill=True`.\n",
            "This will become an error in seaborn v0.14.0; please update your code.\n",
            "\n",
            "  sns.kdeplot(data[col],ax=axs[i],shade=True)\n",
            "<ipython-input-42-185ebfa5319a>:5: FutureWarning: \n",
            "\n",
            "`shade` is now deprecated in favor of `fill`; setting `fill=True`.\n",
            "This will become an error in seaborn v0.14.0; please update your code.\n",
            "\n",
            "  sns.kdeplot(data[col],ax=axs[i],shade=True)\n",
            "<ipython-input-42-185ebfa5319a>:5: FutureWarning: \n",
            "\n",
            "`shade` is now deprecated in favor of `fill`; setting `fill=True`.\n",
            "This will become an error in seaborn v0.14.0; please update your code.\n",
            "\n",
            "  sns.kdeplot(data[col],ax=axs[i],shade=True)\n",
            "<ipython-input-42-185ebfa5319a>:5: FutureWarning: \n",
            "\n",
            "`shade` is now deprecated in favor of `fill`; setting `fill=True`.\n",
            "This will become an error in seaborn v0.14.0; please update your code.\n",
            "\n",
            "  sns.kdeplot(data[col],ax=axs[i],shade=True)\n"
          ]
        },
        {
          "output_type": "display_data",
          "data": {
            "text/plain": [
              "<Figure size 2000x1000 with 4 Axes>"
            ],
            "image/png": "[encoded data removed]"
          },
          "metadata": {}
        }
      ]
    },
    {
      "cell_type": "code",
      "source": [
        "from sklearn.preprocessing import StandardScaler\n",
        "scaler = StandardScaler()\n",
        "\n",
        "data[continous_columns]=scaler.fit_transform(data[continous_columns])"
      ],
      "metadata": {
        "id": "jY8UAqAMkTa0"
      },
      "execution_count": null,
      "outputs": []
    },
    {
      "cell_type": "code",
      "source": [
        "data.isna().sum()"
      ],
      "metadata": {
        "colab": {
          "base_uri": "https://localhost:8080/",
          "height": 460
        },
        "id": "Ud5omdTepyv3",
        "outputId": "4986f0aa-2bce-4a33-e1fa-3ed3c361b015"
      },
      "execution_count": null,
      "outputs": [
        {
          "output_type": "execute_result",
          "data": {
            "text/plain": [
              "Distance_km               0\n",
              "Traffic_Level             0\n",
              "Time_of_Day               0\n",
              "Vehicle_Type              0\n",
              "Preparation_Time_min      0\n",
              "Courier_Experience_yrs    0\n",
              "Delivery_Time_min         0\n",
              "Weather_Clear             0\n",
              "Weather_Foggy             0\n",
              "Weather_Rainy             0\n",
              "Weather_Snowy             0\n",
              "Weather_Windy             0\n",
              "dtype: int64"
            ],
            "text/html": [
              "<div>\n",
              "<style scoped>\n",
              "    .dataframe tbody tr th:only-of-type {\n",
              "        vertical-align: middle;\n",
              "    }\n",
              "\n",
              "    .dataframe tbody tr th {\n",
              "        vertical-align: top;\n",
              "    }\n",
              "\n",
              "    .dataframe thead th {\n",
              "        text-align: right;\n",
              "    }\n",
              "</style>\n",
              "<table border=\"1\" class=\"dataframe\">\n",
              "  <thead>\n",
              "    <tr style=\"text-align: right;\">\n",
              "      <th></th>\n",
              "      <th>0</th>\n",
              "    </tr>\n",
              "  </thead>\n",
              "  <tbody>\n",
              "    <tr>\n",
              "      <th>Distance_km</th>\n",
              "      <td>0</td>\n",
              "    </tr>\n",
              "    <tr>\n",
              "      <th>Traffic_Level</th>\n",
              "      <td>0</td>\n",
              "    </tr>\n",
              "    <tr>\n",
              "      <th>Time_of_Day</th>\n",
              "      <td>0</td>\n",
              "    </tr>\n",
              "    <tr>\n",
              "      <th>Vehicle_Type</th>\n",
              "      <td>0</td>\n",
              "    </tr>\n",
              "    <tr>\n",
              "      <th>Preparation_Time_min</th>\n",
              "      <td>0</td>\n",
              "    </tr>\n",
              "    <tr>\n",
              "      <th>Courier_Experience_yrs</th>\n",
              "      <td>0</td>\n",
              "    </tr>\n",
              "    <tr>\n",
              "      <th>Delivery_Time_min</th>\n",
              "      <td>0</td>\n",
              "    </tr>\n",
              "    <tr>\n",
              "      <th>Weather_Clear</th>\n",
              "      <td>0</td>\n",
              "    </tr>\n",
              "    <tr>\n",
              "      <th>Weather_Foggy</th>\n",
              "      <td>0</td>\n",
              "    </tr>\n",
              "    <tr>\n",
              "      <th>Weather_Rainy</th>\n",
              "      <td>0</td>\n",
              "    </tr>\n",
              "    <tr>\n",
              "      <th>Weather_Snowy</th>\n",
              "      <td>0</td>\n",
              "    </tr>\n",
              "    <tr>\n",
              "      <th>Weather_Windy</th>\n",
              "      <td>0</td>\n",
              "    </tr>\n",
              "  </tbody>\n",
              "</table>\n",
              "</div><br><label><b>dtype:</b> int64</label>"
            ]
          },
          "metadata": {},
          "execution_count": 44
        }
      ]
    },
    {
      "cell_type": "markdown",
      "source": [
        "TRAIN AND TESTING SPLIT"
      ],
      "metadata": {
        "id": "tTZmdIcHWrea"
      }
    },
    {
      "cell_type": "code",
      "source": [
        "from sklearn.model_selection import train_test_split\n",
        "\n",
        "X = data.drop(['Delivery_Time_min'],axis=1)\n",
        "y =data['Delivery_Time_min']\n",
        "\n",
        "X_train,X_test,y_train,y_test = train_test_split(X,y,test_size=0.2,random_state=42)\n"
      ],
      "metadata": {
        "id": "v6QWILToWusT"
      },
      "execution_count": null,
      "outputs": []
    },
    {
      "cell_type": "markdown",
      "source": [
        "**MODEL**"
      ],
      "metadata": {
        "id": "GdHnxWV4eeuu"
      }
    },
    {
      "cell_type": "code",
      "source": [
        "from sklearn.linear_model import LinearRegression,Ridge\n",
        "\n",
        "model = Ridge(alpha=0.1)\n",
        "model.fit(X_train,y_train)\n",
        "\n",
        "y_pred = model.predict(X_test)\n"
      ],
      "metadata": {
        "id": "TDJ-4rXQeg7u"
      },
      "execution_count": null,
      "outputs": []
    },
    {
      "cell_type": "markdown",
      "source": [
        "Evaluate The Model"
      ],
      "metadata": {
        "id": "rE-vZapmfAgl"
      }
    },
    {
      "cell_type": "code",
      "source": [
        "from sklearn.metrics import mean_absolute_error,mean_squared_error,r2_score\n",
        "\n",
        "mae = mean_absolute_error(y_test,y_pred)\n",
        "mse = mean_squared_error(y_test,y_pred)\n",
        "r2 = r2_score(y_test,y_pred)\n",
        "print(f\"Mean Absolute Error: {mae}\")\n",
        "print(f\"Mean Squared Error: {mse}\")\n",
        "print(f\"R-squared: {r2}\")\n"
      ],
      "metadata": {
        "colab": {
          "base_uri": "https://localhost:8080/"
        },
        "id": "6n3ItioPfEot",
        "outputId": "1e6a8aae-4af1-4bab-c8a8-698e62d1ed14"
      },
      "execution_count": null,
      "outputs": [
        {
          "output_type": "stream",
          "name": "stdout",
          "text": [
            "Mean Absolute Error: 0.26322369628785147\n",
            "Mean Squared Error: 0.1629630538584101\n",
            "R-squared: 0.8512609403883531\n"
          ]
        }
      ]
    },
    {
      "cell_type": "markdown",
      "source": [
        "VISUALIZATION"
      ],
      "metadata": {
        "id": "tsSqHQcKgcmp"
      }
    },
    {
      "cell_type": "code",
      "source": [
        "import matplotlib.pyplot as plt\n",
        "plt.scatter(y_test, y_pred)\n",
        "plt.xlabel('Actual Delivery Times')\n",
        "plt.ylabel('Predicted Delivery Times')\n",
        "plt.title('Actual vs Predicted Delivery Times')\n",
        "plt.show()"
      ],
      "metadata": {
        "colab": {
          "base_uri": "https://localhost:8080/",
          "height": 472
        },
        "id": "4w1KA0lEgecH",
        "outputId": "3cb8d47e-72e2-4b93-c21c-b95c1abe756a"
      },
      "execution_count": null,
      "outputs": [
        {
          "output_type": "display_data",
          "data": {
            "text/plain": [
              "<Figure size 640x480 with 1 Axes>"
            ],
            "image/png": "[encoded data removed]"
          },
          "metadata": {}
        }
      ]
    },
    {
      "cell_type": "code",
      "source": [
        "from sklearn.linear_model import LinearRegression,Lasso\n",
        "\n",
        "model = Lasso(alpha=0.01)\n",
        "model.fit(X_train,y_train)\n",
        "\n",
        "y_pred = model.predict(X_test)\n"
      ],
      "metadata": {
        "id": "T_JpedSx4i0c"
      },
      "execution_count": null,
      "outputs": []
    },
    {
      "cell_type": "code",
      "source": [
        "from sklearn.metrics import mean_absolute_error,mean_squared_error,r2_score\n",
        "\n",
        "mae = mean_absolute_error(y_test,y_pred)\n",
        "mse = mean_squared_error(y_test,y_pred)\n",
        "r2 = r2_score(y_test,y_pred)\n",
        "print(f\"Mean Absolute Error: {mae}\")\n",
        "print(f\"Mean Squared Error: {mse}\")\n",
        "print(f\"R-squared: {r2}\")\n"
      ],
      "metadata": {
        "colab": {
          "base_uri": "https://localhost:8080/"
        },
        "id": "mey15G3x430E",
        "outputId": "e7a2ceba-0bf1-4b94-927d-0e71ef5d9710"
      },
      "execution_count": null,
      "outputs": [
        {
          "output_type": "stream",
          "name": "stdout",
          "text": [
            "Mean Absolute Error: 0.2754010406698294\n",
            "Mean Squared Error: 0.17104691996388197\n",
            "R-squared: 0.8438826628334967\n"
          ]
        }
      ]
    },
    {
      "cell_type": "code",
      "source": [
        "import matplotlib.pyplot as plt\n",
        "plt.scatter(y_test, y_pred)\n",
        "plt.xlabel('Actual Delivery Times')\n",
        "plt.ylabel('Predicted Delivery Times')\n",
        "plt.title('Actual vs Predicted Delivery Times')\n",
        "plt.show()"
      ],
      "metadata": {
        "colab": {
          "base_uri": "https://localhost:8080/",
          "height": 472
        },
        "id": "Az80MALyGOrE",
        "outputId": "d26d8b28-3ca9-4b3e-f612-8bf0efcc7cab"
      },
      "execution_count": null,
      "outputs": [
        {
          "output_type": "display_data",
          "data": {
            "text/plain": [
              "<Figure size 640x480 with 1 Axes>"
            ],
            "image/png": "[encoded data removed]"
          },
          "metadata": {}
        }
      ]
    }
  ]
}